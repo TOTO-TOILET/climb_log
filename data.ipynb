{
 "cells": [
  {
   "cell_type": "code",
   "execution_count": 286,
   "metadata": {},
   "outputs": [],
   "source": [
    "import pandas as pd \n",
    "import sqlite3\n",
    "from datetime import datetime\n",
    "import matplotlib.pyplot as plt "
   ]
  },
  {
   "cell_type": "code",
   "execution_count": 287,
   "metadata": {},
   "outputs": [
    {
     "name": "stdout",
     "output_type": "stream",
     "text": [
      "[('users',), ('climbs',), ('score',), ('comments',)]\n"
     ]
    }
   ],
   "source": [
    "db_path = \"/Users/yuta/Desktop/climb_proj/instance/climbs.db\"\n",
    "\n",
    "connection = sqlite3.connect(db_path)\n",
    "cursor = connection.cursor()\n",
    "cursor.execute(\"SELECT name FROM sqlite_master WHERE type='table';\")\n",
    "print(cursor.fetchall())"
   ]
  },
  {
   "cell_type": "code",
   "execution_count": 288,
   "metadata": {},
   "outputs": [
    {
     "name": "stdout",
     "output_type": "stream",
     "text": [
      "/Users/yuta/Desktop/climb_proj/instance/climbs.db\n"
     ]
    }
   ],
   "source": [
    "import os \n",
    "print(os.path.abspath(db_path))"
   ]
  },
  {
   "cell_type": "code",
   "execution_count": 289,
   "metadata": {},
   "outputs": [
    {
     "data": {
      "text/html": [
       "<div>\n",
       "<style scoped>\n",
       "    .dataframe tbody tr th:only-of-type {\n",
       "        vertical-align: middle;\n",
       "    }\n",
       "\n",
       "    .dataframe tbody tr th {\n",
       "        vertical-align: top;\n",
       "    }\n",
       "\n",
       "    .dataframe thead th {\n",
       "        text-align: right;\n",
       "    }\n",
       "</style>\n",
       "<table border=\"1\" class=\"dataframe\">\n",
       "  <thead>\n",
       "    <tr style=\"text-align: right;\">\n",
       "      <th></th>\n",
       "      <th>id</th>\n",
       "      <th>performance_score</th>\n",
       "      <th>activity_score</th>\n",
       "      <th>grade</th>\n",
       "      <th>score_owner_id</th>\n",
       "      <th>recorded_at</th>\n",
       "    </tr>\n",
       "  </thead>\n",
       "  <tbody>\n",
       "    <tr>\n",
       "      <th>0</th>\n",
       "      <td>1</td>\n",
       "      <td>73</td>\n",
       "      <td>286</td>\n",
       "      <td>8</td>\n",
       "      <td>3</td>\n",
       "      <td>2024-12-06 17:55:17.304365</td>\n",
       "    </tr>\n",
       "    <tr>\n",
       "      <th>1</th>\n",
       "      <td>2</td>\n",
       "      <td>91</td>\n",
       "      <td>217</td>\n",
       "      <td>7</td>\n",
       "      <td>3</td>\n",
       "      <td>2024-12-05 17:55:17.304365</td>\n",
       "    </tr>\n",
       "    <tr>\n",
       "      <th>2</th>\n",
       "      <td>3</td>\n",
       "      <td>97</td>\n",
       "      <td>202</td>\n",
       "      <td>4</td>\n",
       "      <td>3</td>\n",
       "      <td>2024-12-04 17:55:17.304365</td>\n",
       "    </tr>\n",
       "    <tr>\n",
       "      <th>3</th>\n",
       "      <td>4</td>\n",
       "      <td>75</td>\n",
       "      <td>279</td>\n",
       "      <td>4</td>\n",
       "      <td>3</td>\n",
       "      <td>2024-12-03 17:55:17.304365</td>\n",
       "    </tr>\n",
       "    <tr>\n",
       "      <th>4</th>\n",
       "      <td>5</td>\n",
       "      <td>100</td>\n",
       "      <td>163</td>\n",
       "      <td>9</td>\n",
       "      <td>3</td>\n",
       "      <td>2024-12-02 17:55:17.304365</td>\n",
       "    </tr>\n",
       "    <tr>\n",
       "      <th>5</th>\n",
       "      <td>6</td>\n",
       "      <td>94</td>\n",
       "      <td>374</td>\n",
       "      <td>8</td>\n",
       "      <td>3</td>\n",
       "      <td>2024-12-01 17:55:17.304365</td>\n",
       "    </tr>\n",
       "    <tr>\n",
       "      <th>6</th>\n",
       "      <td>7</td>\n",
       "      <td>78</td>\n",
       "      <td>479</td>\n",
       "      <td>8</td>\n",
       "      <td>3</td>\n",
       "      <td>2024-11-30 17:55:17.304365</td>\n",
       "    </tr>\n",
       "  </tbody>\n",
       "</table>\n",
       "</div>"
      ],
      "text/plain": [
       "   id  performance_score  activity_score  grade  score_owner_id  \\\n",
       "0   1                 73             286      8               3   \n",
       "1   2                 91             217      7               3   \n",
       "2   3                 97             202      4               3   \n",
       "3   4                 75             279      4               3   \n",
       "4   5                100             163      9               3   \n",
       "5   6                 94             374      8               3   \n",
       "6   7                 78             479      8               3   \n",
       "\n",
       "                  recorded_at  \n",
       "0  2024-12-06 17:55:17.304365  \n",
       "1  2024-12-05 17:55:17.304365  \n",
       "2  2024-12-04 17:55:17.304365  \n",
       "3  2024-12-03 17:55:17.304365  \n",
       "4  2024-12-02 17:55:17.304365  \n",
       "5  2024-12-01 17:55:17.304365  \n",
       "6  2024-11-30 17:55:17.304365  "
      ]
     },
     "execution_count": 289,
     "metadata": {},
     "output_type": "execute_result"
    }
   ],
   "source": [
    "query_climb = 'SELECT * FROM climbs'\n",
    "climbs_df = pd.read_sql_query(query_climb, connection)\n",
    "climbs_df \n",
    "\n",
    "query_user = 'SELECT * FROM users'\n",
    "user_df = pd.read_sql_query(query_user, connection)\n",
    "user_df\n",
    "\n",
    "query_score = 'SELECT * FROM score'\n",
    "score_df = pd.read_sql_query(query_score, connection)\n",
    "score_df"
   ]
  },
  {
   "cell_type": "code",
   "execution_count": 290,
   "metadata": {},
   "outputs": [],
   "source": [
    "# this returns today's climbing activity of user with specified id\n",
    "def excercise_today(id):\n",
    "    user_climb_data = climbs_df[climbs_df.upload_author_id==id] # make the value inside upload_author_id dynamic\n",
    "    user_climb_data['date_logged'] = pd.to_datetime(user_climb_data.date_logged) # convert the value to datetime format for conpatibility\n",
    "    user_data_today = user_climb_data[user_climb_data['date_logged'].dt.date == datetime.now().date()]\n",
    "    if user_data_today.empty: # need to implement error handling in case there is no excersize history that day\n",
    "        return None\n",
    "    else:\n",
    "        return user_data_today\n",
    "    \n",
    "# climbs_completed = excercise_today(3)[excercise_today(3).completed == True]\n",
    "# climbs_completed"
   ]
  },
  {
   "cell_type": "code",
   "execution_count": 291,
   "metadata": {},
   "outputs": [],
   "source": [
    "# this returns max_grade of the user with specified id \n",
    "def user_max(id):\n",
    "    user_detail = user_df[user_df.id == id]\n",
    "    return int(user_detail.current_grade)\n",
    "\n",
    "# user_max(3)"
   ]
  },
  {
   "cell_type": "code",
   "execution_count": 292,
   "metadata": {},
   "outputs": [],
   "source": [
    "# this returns performance score based solely on the attempt number and the grade which is before being refined to the final score \n",
    "\n",
    "def performance_score(id):\n",
    "    max_attempts = 100\n",
    "    grade = excercise_today(id)[excercise_today(id).completed == True].grade # this ensures that its getting only completed climbs\n",
    "    user_max_grade = user_max(id)\n",
    "    user_attempt = excercise_today(id)[excercise_today(id).completed == True].attempt # this ensures that its getting only completed climbs\n",
    "    intensity_level = grade / user_max_grade\n",
    "    score = intensity_level * (max_attempts / (user_attempt + max_attempts)) * 100\n",
    "    print(score)\n",
    "    return int(score.mean())\n",
    "\n",
    "# performance_score(3)\n"
   ]
  },
  {
   "cell_type": "code",
   "execution_count": 293,
   "metadata": {},
   "outputs": [
    {
     "name": "stdout",
     "output_type": "stream",
     "text": [
      "21    58.823529\n",
      "25    58.823529\n",
      "26    92.592593\n",
      "28    76.923077\n",
      "29    75.471698\n",
      "dtype: float64\n",
      "88\n"
     ]
    },
    {
     "name": "stderr",
     "output_type": "stream",
     "text": [
      "/var/folders/80/hv8gpdgn6tndvgyr9pwntpz40000gn/T/ipykernel_70942/13646849.py:4: SettingWithCopyWarning: \n",
      "A value is trying to be set on a copy of a slice from a DataFrame.\n",
      "Try using .loc[row_indexer,col_indexer] = value instead\n",
      "\n",
      "See the caveats in the documentation: https://pandas.pydata.org/pandas-docs/stable/user_guide/indexing.html#returning-a-view-versus-a-copy\n",
      "  user_climb_data['date_logged'] = pd.to_datetime(user_climb_data.date_logged) # convert the value to datetime format for conpatibility\n",
      "/var/folders/80/hv8gpdgn6tndvgyr9pwntpz40000gn/T/ipykernel_70942/13646849.py:4: SettingWithCopyWarning: \n",
      "A value is trying to be set on a copy of a slice from a DataFrame.\n",
      "Try using .loc[row_indexer,col_indexer] = value instead\n",
      "\n",
      "See the caveats in the documentation: https://pandas.pydata.org/pandas-docs/stable/user_guide/indexing.html#returning-a-view-versus-a-copy\n",
      "  user_climb_data['date_logged'] = pd.to_datetime(user_climb_data.date_logged) # convert the value to datetime format for conpatibility\n",
      "/var/folders/80/hv8gpdgn6tndvgyr9pwntpz40000gn/T/ipykernel_70942/4045854558.py:4: FutureWarning: Calling int on a single element Series is deprecated and will raise a TypeError in the future. Use int(ser.iloc[0]) instead\n",
      "  return int(user_detail.current_grade)\n",
      "/var/folders/80/hv8gpdgn6tndvgyr9pwntpz40000gn/T/ipykernel_70942/13646849.py:4: SettingWithCopyWarning: \n",
      "A value is trying to be set on a copy of a slice from a DataFrame.\n",
      "Try using .loc[row_indexer,col_indexer] = value instead\n",
      "\n",
      "See the caveats in the documentation: https://pandas.pydata.org/pandas-docs/stable/user_guide/indexing.html#returning-a-view-versus-a-copy\n",
      "  user_climb_data['date_logged'] = pd.to_datetime(user_climb_data.date_logged) # convert the value to datetime format for conpatibility\n",
      "/var/folders/80/hv8gpdgn6tndvgyr9pwntpz40000gn/T/ipykernel_70942/13646849.py:4: SettingWithCopyWarning: \n",
      "A value is trying to be set on a copy of a slice from a DataFrame.\n",
      "Try using .loc[row_indexer,col_indexer] = value instead\n",
      "\n",
      "See the caveats in the documentation: https://pandas.pydata.org/pandas-docs/stable/user_guide/indexing.html#returning-a-view-versus-a-copy\n",
      "  user_climb_data['date_logged'] = pd.to_datetime(user_climb_data.date_logged) # convert the value to datetime format for conpatibility\n",
      "/var/folders/80/hv8gpdgn6tndvgyr9pwntpz40000gn/T/ipykernel_70942/4045854558.py:4: FutureWarning: Calling int on a single element Series is deprecated and will raise a TypeError in the future. Use int(ser.iloc[0]) instead\n",
      "  return int(user_detail.current_grade)\n",
      "/var/folders/80/hv8gpdgn6tndvgyr9pwntpz40000gn/T/ipykernel_70942/13646849.py:4: SettingWithCopyWarning: \n",
      "A value is trying to be set on a copy of a slice from a DataFrame.\n",
      "Try using .loc[row_indexer,col_indexer] = value instead\n",
      "\n",
      "See the caveats in the documentation: https://pandas.pydata.org/pandas-docs/stable/user_guide/indexing.html#returning-a-view-versus-a-copy\n",
      "  user_climb_data['date_logged'] = pd.to_datetime(user_climb_data.date_logged) # convert the value to datetime format for conpatibility\n",
      "/var/folders/80/hv8gpdgn6tndvgyr9pwntpz40000gn/T/ipykernel_70942/13646849.py:4: SettingWithCopyWarning: \n",
      "A value is trying to be set on a copy of a slice from a DataFrame.\n",
      "Try using .loc[row_indexer,col_indexer] = value instead\n",
      "\n",
      "See the caveats in the documentation: https://pandas.pydata.org/pandas-docs/stable/user_guide/indexing.html#returning-a-view-versus-a-copy\n",
      "  user_climb_data['date_logged'] = pd.to_datetime(user_climb_data.date_logged) # convert the value to datetime format for conpatibility\n"
     ]
    }
   ],
   "source": [
    "def final_score(id):\n",
    "    score = performance_score(id)\n",
    "    user_max_grade = user_max(id)\n",
    "    climbs_completed = excercise_today(id)[excercise_today(id).completed == True]\n",
    "    completed_climb_num = climbs_completed.count().grade\n",
    "    completed_climb_num\n",
    "\n",
    "    # add or deduct number from perfromnace score based on the number of climbs completed\n",
    "    if completed_climb_num == 1:\n",
    "        score -= 10\n",
    "    elif completed_climb_num == 2:\n",
    "        score -= 8\n",
    "    elif completed_climb_num == 3:\n",
    "        score -= 6\n",
    "    elif completed_climb_num == 4:\n",
    "        score -= 4\n",
    "    elif completed_climb_num == 5:\n",
    "        score += 3\n",
    "    elif completed_climb_num == 6:\n",
    "        score += 5\n",
    "    elif completed_climb_num > 6:\n",
    "        score += 7\n",
    "\n",
    "    # give extra score if the user cpmpleted climbs with the grade higher than the grade 2 grades lower than their max grade\n",
    "    base_hard_climbs = climbs_completed[climbs_completed.grade >= user_max_grade -2].count().id\n",
    "    score += base_hard_climbs * 2\n",
    "    score\n",
    "\n",
    "    # give extra score if the user cpmpleted their max grade\n",
    "    max_grade = climbs_completed[climbs_completed.grade == user_max_grade].count().id\n",
    "    score += max_grade * 3\n",
    "\n",
    "    # give extra score if the user cpmpleted climbs with the grade higher than their max grade\n",
    "    hard_grade = climbs_completed[climbs_completed.grade > user_max_grade].count().id\n",
    "    score += hard_grade * 5\n",
    "    \n",
    "    if score > 100:\n",
    "        score = 100\n",
    "    return score\n",
    "\n",
    "print(final_score(3))"
   ]
  },
  {
   "cell_type": "code",
   "execution_count": 294,
   "metadata": {},
   "outputs": [
    {
     "data": {
      "text/html": [
       "<div>\n",
       "<style scoped>\n",
       "    .dataframe tbody tr th:only-of-type {\n",
       "        vertical-align: middle;\n",
       "    }\n",
       "\n",
       "    .dataframe tbody tr th {\n",
       "        vertical-align: top;\n",
       "    }\n",
       "\n",
       "    .dataframe thead th {\n",
       "        text-align: right;\n",
       "    }\n",
       "</style>\n",
       "<table border=\"1\" class=\"dataframe\">\n",
       "  <thead>\n",
       "    <tr style=\"text-align: right;\">\n",
       "      <th></th>\n",
       "      <th>id</th>\n",
       "      <th>performance_score</th>\n",
       "      <th>activity_score</th>\n",
       "      <th>grade</th>\n",
       "      <th>score_owner_id</th>\n",
       "      <th>recorded_at</th>\n",
       "      <th>date</th>\n",
       "    </tr>\n",
       "  </thead>\n",
       "  <tbody>\n",
       "    <tr>\n",
       "      <th>6</th>\n",
       "      <td>7</td>\n",
       "      <td>78</td>\n",
       "      <td>479</td>\n",
       "      <td>8</td>\n",
       "      <td>3</td>\n",
       "      <td>2024-11-30 17:55:17.304365</td>\n",
       "      <td>2024-11-30</td>\n",
       "    </tr>\n",
       "    <tr>\n",
       "      <th>5</th>\n",
       "      <td>6</td>\n",
       "      <td>94</td>\n",
       "      <td>374</td>\n",
       "      <td>8</td>\n",
       "      <td>3</td>\n",
       "      <td>2024-12-01 17:55:17.304365</td>\n",
       "      <td>2024-12-01</td>\n",
       "    </tr>\n",
       "    <tr>\n",
       "      <th>4</th>\n",
       "      <td>5</td>\n",
       "      <td>100</td>\n",
       "      <td>163</td>\n",
       "      <td>9</td>\n",
       "      <td>3</td>\n",
       "      <td>2024-12-02 17:55:17.304365</td>\n",
       "      <td>2024-12-02</td>\n",
       "    </tr>\n",
       "    <tr>\n",
       "      <th>3</th>\n",
       "      <td>4</td>\n",
       "      <td>75</td>\n",
       "      <td>279</td>\n",
       "      <td>4</td>\n",
       "      <td>3</td>\n",
       "      <td>2024-12-03 17:55:17.304365</td>\n",
       "      <td>2024-12-03</td>\n",
       "    </tr>\n",
       "    <tr>\n",
       "      <th>2</th>\n",
       "      <td>3</td>\n",
       "      <td>97</td>\n",
       "      <td>202</td>\n",
       "      <td>4</td>\n",
       "      <td>3</td>\n",
       "      <td>2024-12-04 17:55:17.304365</td>\n",
       "      <td>2024-12-04</td>\n",
       "    </tr>\n",
       "    <tr>\n",
       "      <th>1</th>\n",
       "      <td>2</td>\n",
       "      <td>91</td>\n",
       "      <td>217</td>\n",
       "      <td>7</td>\n",
       "      <td>3</td>\n",
       "      <td>2024-12-05 17:55:17.304365</td>\n",
       "      <td>2024-12-05</td>\n",
       "    </tr>\n",
       "    <tr>\n",
       "      <th>0</th>\n",
       "      <td>1</td>\n",
       "      <td>73</td>\n",
       "      <td>286</td>\n",
       "      <td>8</td>\n",
       "      <td>3</td>\n",
       "      <td>2024-12-06 17:55:17.304365</td>\n",
       "      <td>2024-12-06</td>\n",
       "    </tr>\n",
       "  </tbody>\n",
       "</table>\n",
       "</div>"
      ],
      "text/plain": [
       "   id  performance_score  activity_score  grade  score_owner_id  \\\n",
       "6   7                 78             479      8               3   \n",
       "5   6                 94             374      8               3   \n",
       "4   5                100             163      9               3   \n",
       "3   4                 75             279      4               3   \n",
       "2   3                 97             202      4               3   \n",
       "1   2                 91             217      7               3   \n",
       "0   1                 73             286      8               3   \n",
       "\n",
       "                 recorded_at        date  \n",
       "6 2024-11-30 17:55:17.304365  2024-11-30  \n",
       "5 2024-12-01 17:55:17.304365  2024-12-01  \n",
       "4 2024-12-02 17:55:17.304365  2024-12-02  \n",
       "3 2024-12-03 17:55:17.304365  2024-12-03  \n",
       "2 2024-12-04 17:55:17.304365  2024-12-04  \n",
       "1 2024-12-05 17:55:17.304365  2024-12-05  \n",
       "0 2024-12-06 17:55:17.304365  2024-12-06  "
      ]
     },
     "execution_count": 294,
     "metadata": {},
     "output_type": "execute_result"
    }
   ],
   "source": [
    "score_df['recorded_at'] = pd.to_datetime(score_df.recorded_at)\n",
    "score_df['date'] = score_df['recorded_at'].dt.date\n",
    "score_df\n",
    "latest_per_day = score_df.loc[score_df.groupby('date')['recorded_at'].idxmax()]\n",
    "latest_per_day"
   ]
  },
  {
   "cell_type": "code",
   "execution_count": 295,
   "metadata": {},
   "outputs": [
    {
     "data": {
      "image/png": "[encoded data removed]",
      "text/plain": [
       "<Figure size 640x480 with 2 Axes>"
      ]
     },
     "metadata": {},
     "output_type": "display_data"
    }
   ],
   "source": [
    "ax1 = plt.gca()  # Get the current axis\n",
    "ax2 = ax1.twinx()  # Create a second y-axis sharing the same x-axis\n",
    "\n",
    "# Set axis labels\n",
    "ax1.set_ylabel('Performance Score', color='#E6232E')\n",
    "ax2.set_ylabel('Calories Burned', color='skyblue')\n",
    "\n",
    "# Plot data on respective axes\n",
    "ax1.plot(latest_per_day.date, latest_per_day.performance_score, color='#E6232E')\n",
    "ax2.plot(latest_per_day.date, latest_per_day.activity_score, color='skyblue')\n",
    "\n",
    "# Set the y-axis minimum to 0 for both axes\n",
    "ax1.set_ylim(bottom=0)  # Set min value for the primary axis (Performance Score)\n",
    "ax2.set_ylim(bottom=0)  # Set min value for the secondary axis (Calories Burned)\n",
    "\n",
    "# Display the plot\n",
    "plt.show()"
   ]
  },
  {
   "cell_type": "code",
   "execution_count": 296,
   "metadata": {},
   "outputs": [
    {
     "data": {
      "text/html": [
       "<div>\n",
       "<style scoped>\n",
       "    .dataframe tbody tr th:only-of-type {\n",
       "        vertical-align: middle;\n",
       "    }\n",
       "\n",
       "    .dataframe tbody tr th {\n",
       "        vertical-align: top;\n",
       "    }\n",
       "\n",
       "    .dataframe thead th {\n",
       "        text-align: right;\n",
       "    }\n",
       "</style>\n",
       "<table border=\"1\" class=\"dataframe\">\n",
       "  <thead>\n",
       "    <tr style=\"text-align: right;\">\n",
       "      <th></th>\n",
       "      <th>grade</th>\n",
       "      <th>date</th>\n",
       "    </tr>\n",
       "  </thead>\n",
       "  <tbody>\n",
       "    <tr>\n",
       "      <th>6</th>\n",
       "      <td>8</td>\n",
       "      <td>2024-11-30</td>\n",
       "    </tr>\n",
       "    <tr>\n",
       "      <th>5</th>\n",
       "      <td>8</td>\n",
       "      <td>2024-12-01</td>\n",
       "    </tr>\n",
       "    <tr>\n",
       "      <th>4</th>\n",
       "      <td>9</td>\n",
       "      <td>2024-12-02</td>\n",
       "    </tr>\n",
       "    <tr>\n",
       "      <th>3</th>\n",
       "      <td>4</td>\n",
       "      <td>2024-12-03</td>\n",
       "    </tr>\n",
       "    <tr>\n",
       "      <th>2</th>\n",
       "      <td>4</td>\n",
       "      <td>2024-12-04</td>\n",
       "    </tr>\n",
       "    <tr>\n",
       "      <th>1</th>\n",
       "      <td>7</td>\n",
       "      <td>2024-12-05</td>\n",
       "    </tr>\n",
       "    <tr>\n",
       "      <th>0</th>\n",
       "      <td>8</td>\n",
       "      <td>2024-12-06</td>\n",
       "    </tr>\n",
       "  </tbody>\n",
       "</table>\n",
       "</div>"
      ],
      "text/plain": [
       "   grade        date\n",
       "6      8  2024-11-30\n",
       "5      8  2024-12-01\n",
       "4      9  2024-12-02\n",
       "3      4  2024-12-03\n",
       "2      4  2024-12-04\n",
       "1      7  2024-12-05\n",
       "0      8  2024-12-06"
      ]
     },
     "execution_count": 296,
     "metadata": {},
     "output_type": "execute_result"
    }
   ],
   "source": [
    "latest_per_day = score_df.loc[score_df.groupby('date')['recorded_at'].idxmax()]\n",
    "latest_per_day[['grade', 'date']] # need to find a way to get the mean num for grade throughout a week "
   ]
  },
  {
   "cell_type": "code",
   "execution_count": 297,
   "metadata": {},
   "outputs": [
    {
     "data": {
      "image/png": "[encoded data removed]",
      "text/plain": [
       "<Figure size 640x480 with 1 Axes>"
      ]
     },
     "metadata": {},
     "output_type": "display_data"
    }
   ],
   "source": [
    "user_climbs = climbs_df[climbs_df['upload_author_id'] == 3]\n",
    "filtered_users_climbs = user_climbs[user_climbs['completed'] == True]\n",
    "total_grade_completed = filtered_users_climbs.groupby('grade').count()\n",
    "\n",
    "\n",
    "plt.bar(\n",
    "    total_grade_completed.index,  # Labels for each style (on x-axis)\n",
    "    total_grade_completed['id']   # Values for each style (on y-axis)\n",
    ")\n",
    "\n",
    "# Add a title\n",
    "plt.title('All Climbs Completed by Grade')\n",
    "\n",
    "# Display the chart\n",
    "plt.show()"
   ]
  },
  {
   "cell_type": "code",
   "execution_count": 298,
   "metadata": {},
   "outputs": [
    {
     "data": {
      "image/png": "[encoded data removed]",
      "text/plain": [
       "<Figure size 1000x600 with 1 Axes>"
      ]
     },
     "metadata": {},
     "output_type": "display_data"
    }
   ],
   "source": [
    "# this shows style of all the climbs completed\n",
    "def style_completed(id):\n",
    "    global user_climbs\n",
    "    user_climbs = climbs_df[climbs_df['upload_author_id'] == id]\n",
    "\n",
    "    total_completed = climbs_df[climbs_df.completed == True]\n",
    "    total_completed = total_completed.groupby('style').count()\n",
    "    by_style = total_completed[['id']]\n",
    "\n",
    "   # Create the bar chart\n",
    "    plt.figure(figsize=(10, 6))  # Set figure size\n",
    "    plt.barh(\n",
    "        by_style.index,  # Climb styles on y-axis\n",
    "        by_style['id'],  # Number of attempts on x-axis\n",
    "        color='skyblue'  # Bar color\n",
    "    )\n",
    "    plt.xlabel('Completed Num', fontsize=12)\n",
    "    plt.ylabel('Genra', fontsize=12)\n",
    "    plt.title('All Climbing Styles Completed', fontsize=14)\n",
    "    plt.tight_layout()\n",
    "    plt.show()\n",
    "\n",
    "style_completed(3)"
   ]
  },
  {
   "cell_type": "code",
   "execution_count": 299,
   "metadata": {},
   "outputs": [
    {
     "data": {
      "image/png": "[encoded data removed]",
      "text/plain": [
       "<Figure size 640x480 with 1 Axes>"
      ]
     },
     "metadata": {},
     "output_type": "display_data"
    }
   ],
   "source": [
    "# this shows the style of climbs user attempted today \n",
    "def style_attempted(id):\n",
    "    global user_climbs\n",
    "    user_climbs = climbs_df[climbs_df['upload_author_id'] == id]\n",
    "    climbs_df['date_logged'] = pd.to_datetime(climbs_df.date_logged).dt.date\n",
    "    total_today = climbs_df[climbs_df.date_logged == datetime.now().date()]\n",
    "    total_today = total_today.groupby('style').count()\n",
    "    by_style = total_today[['id']]\n",
    "\n",
    "    plt.pie(\n",
    "        by_style['id'],  # Values for the pie chart\n",
    "        labels=by_style.index,  # Labels for each style\n",
    "        autopct='%1.1f%%'  # Show percentages\n",
    "    )\n",
    "    plt.title('Attempted today')\n",
    "\n",
    "style_attempted(3)"
   ]
  },
  {
   "cell_type": "code",
   "execution_count": 300,
   "metadata": {},
   "outputs": [
    {
     "data": {
      "image/png": "[encoded data removed]",
      "text/plain": [
       "<Figure size 640x480 with 1 Axes>"
      ]
     },
     "metadata": {},
     "output_type": "display_data"
    }
   ],
   "source": [
    "def grade_attempted(id):\n",
    "    global user_climbs\n",
    "    user_climbs[user_climbs.completed == True]\n",
    "    user_climbs = climbs_df[climbs_df['upload_author_id'] == id]\n",
    "    climbs_df['date_logged'] = pd.to_datetime(climbs_df.date_logged).dt.date\n",
    "    total_today = climbs_df[climbs_df.date_logged == datetime.now().date()]\n",
    "    filtered_total_today = total_today[['grade', 'attempt']]\n",
    "    plt.bar(\n",
    "        filtered_total_today['grade'],  # X-axis: grade values\n",
    "        filtered_total_today['attempt']  # Y-axis: attempt values\n",
    "    )\n",
    "\n",
    "    # Add labels and title\n",
    "    plt.xlabel('Grade')  # Label for the x-axis\n",
    "    plt.ylabel('Number of Attempts')  # Label for the y-axis\n",
    "    plt.title('Grade Attempted today')  # Title of the chart\n",
    "    plt.xticks(ticks=filtered_total_today['grade'], labels=filtered_total_today['grade'])\n",
    "\n",
    "    # Display the chart\n",
    "    plt.show()\n",
    "grade_attempted(3)"
   ]
  },
  {
   "cell_type": "code",
   "execution_count": null,
   "metadata": {},
   "outputs": [],
   "source": []
  },
  {
   "cell_type": "code",
   "execution_count": null,
   "metadata": {},
   "outputs": [],
   "source": []
  },
  {
   "cell_type": "code",
   "execution_count": null,
   "metadata": {},
   "outputs": [],
   "source": []
  },
  {
   "cell_type": "code",
   "execution_count": null,
   "metadata": {},
   "outputs": [],
   "source": []
  },
  {
   "cell_type": "code",
   "execution_count": null,
   "metadata": {},
   "outputs": [],
   "source": []
  },
  {
   "cell_type": "code",
   "execution_count": null,
   "metadata": {},
   "outputs": [],
   "source": []
  },
  {
   "cell_type": "code",
   "execution_count": null,
   "metadata": {},
   "outputs": [],
   "source": []
  },
  {
   "cell_type": "code",
   "execution_count": null,
   "metadata": {},
   "outputs": [],
   "source": []
  },
  {
   "cell_type": "code",
   "execution_count": null,
   "metadata": {},
   "outputs": [],
   "source": []
  },
  {
   "cell_type": "code",
   "execution_count": null,
   "metadata": {},
   "outputs": [],
   "source": []
  },
  {
   "cell_type": "code",
   "execution_count": null,
   "metadata": {},
   "outputs": [],
   "source": []
  },
  {
   "cell_type": "code",
   "execution_count": null,
   "metadata": {},
   "outputs": [],
   "source": []
  },
  {
   "cell_type": "code",
   "execution_count": null,
   "metadata": {},
   "outputs": [],
   "source": []
  },
  {
   "cell_type": "code",
   "execution_count": null,
   "metadata": {},
   "outputs": [],
   "source": []
  },
  {
   "cell_type": "code",
   "execution_count": null,
   "metadata": {},
   "outputs": [],
   "source": []
  },
  {
   "cell_type": "code",
   "execution_count": null,
   "metadata": {},
   "outputs": [],
   "source": []
  },
  {
   "cell_type": "code",
   "execution_count": null,
   "metadata": {},
   "outputs": [],
   "source": []
  },
  {
   "cell_type": "code",
   "execution_count": null,
   "metadata": {},
   "outputs": [],
   "source": [
    "\n"
   ]
  },
  {
   "cell_type": "code",
   "execution_count": null,
   "metadata": {},
   "outputs": [],
   "source": []
  },
  {
   "cell_type": "code",
   "execution_count": null,
   "metadata": {},
   "outputs": [],
   "source": []
  },
  {
   "cell_type": "code",
   "execution_count": null,
   "metadata": {},
   "outputs": [],
   "source": []
  },
  {
   "cell_type": "code",
   "execution_count": null,
   "metadata": {},
   "outputs": [],
   "source": []
  },
  {
   "cell_type": "code",
   "execution_count": null,
   "metadata": {},
   "outputs": [],
   "source": []
  },
  {
   "cell_type": "code",
   "execution_count": null,
   "metadata": {},
   "outputs": [],
   "source": []
  },
  {
   "cell_type": "code",
   "execution_count": null,
   "metadata": {},
   "outputs": [],
   "source": []
  }
 ],
 "metadata": {
  "kernelspec": {
   "display_name": "Python 3",
   "language": "python",
   "name": "python3"
  },
  "language_info": {
   "codemirror_mode": {
    "name": "ipython",
    "version": 3
   },
   "file_extension": ".py",
   "mimetype": "text/x-python",
   "name": "python",
   "nbconvert_exporter": "python",
   "pygments_lexer": "ipython3",
   "version": "3.12.2"
  }
 },
 "nbformat": 4,
 "nbformat_minor": 2
}
