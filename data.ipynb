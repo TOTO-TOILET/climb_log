{
 "cells": [
  {
   "cell_type": "code",
   "execution_count": 6,
   "metadata": {},
   "outputs": [],
   "source": [
    "import pandas as pd \n",
    "import sqlite3\n",
    "from datetime import datetime"
   ]
  },
  {
   "cell_type": "code",
   "execution_count": 7,
   "metadata": {},
   "outputs": [
    {
     "name": "stdout",
     "output_type": "stream",
     "text": [
      "[('users',), ('climbs',), ('score',), ('comments',)]\n"
     ]
    }
   ],
   "source": [
    "db_path = \"/Users/yuta/Desktop/climb_proj/instance/climbs.db\"\n",
    "\n",
    "connection = sqlite3.connect(db_path)\n",
    "cursor = connection.cursor()\n",
    "cursor.execute(\"SELECT name FROM sqlite_master WHERE type='table';\")\n",
    "print(cursor.fetchall())"
   ]
  },
  {
   "cell_type": "code",
   "execution_count": 8,
   "metadata": {},
   "outputs": [
    {
     "name": "stdout",
     "output_type": "stream",
     "text": [
      "/Users/yuta/Desktop/climb_proj/instance/climbs.db\n"
     ]
    }
   ],
   "source": [
    "import os \n",
    "print(os.path.abspath(db_path))"
   ]
  },
  {
   "cell_type": "code",
   "execution_count": 9,
   "metadata": {},
   "outputs": [
    {
     "data": {
      "text/html": [
       "<div>\n",
       "<style scoped>\n",
       "    .dataframe tbody tr th:only-of-type {\n",
       "        vertical-align: middle;\n",
       "    }\n",
       "\n",
       "    .dataframe tbody tr th {\n",
       "        vertical-align: top;\n",
       "    }\n",
       "\n",
       "    .dataframe thead th {\n",
       "        text-align: right;\n",
       "    }\n",
       "</style>\n",
       "<table border=\"1\" class=\"dataframe\">\n",
       "  <thead>\n",
       "    <tr style=\"text-align: right;\">\n",
       "      <th></th>\n",
       "      <th>id</th>\n",
       "      <th>performance_score</th>\n",
       "      <th>activity_score</th>\n",
       "      <th>grade</th>\n",
       "      <th>score_ownwer_id</th>\n",
       "      <th>recorded_at</th>\n",
       "    </tr>\n",
       "  </thead>\n",
       "  <tbody>\n",
       "    <tr>\n",
       "      <th>0</th>\n",
       "      <td>1</td>\n",
       "      <td>98</td>\n",
       "      <td>496</td>\n",
       "      <td>10</td>\n",
       "      <td>3</td>\n",
       "      <td>2024-12-02</td>\n",
       "    </tr>\n",
       "    <tr>\n",
       "      <th>1</th>\n",
       "      <td>2</td>\n",
       "      <td>95</td>\n",
       "      <td>279</td>\n",
       "      <td>4</td>\n",
       "      <td>3</td>\n",
       "      <td>2024-12-01</td>\n",
       "    </tr>\n",
       "    <tr>\n",
       "      <th>2</th>\n",
       "      <td>3</td>\n",
       "      <td>72</td>\n",
       "      <td>451</td>\n",
       "      <td>9</td>\n",
       "      <td>3</td>\n",
       "      <td>2024-11-30</td>\n",
       "    </tr>\n",
       "    <tr>\n",
       "      <th>3</th>\n",
       "      <td>4</td>\n",
       "      <td>98</td>\n",
       "      <td>301</td>\n",
       "      <td>10</td>\n",
       "      <td>3</td>\n",
       "      <td>2024-11-29</td>\n",
       "    </tr>\n",
       "    <tr>\n",
       "      <th>4</th>\n",
       "      <td>5</td>\n",
       "      <td>80</td>\n",
       "      <td>445</td>\n",
       "      <td>5</td>\n",
       "      <td>3</td>\n",
       "      <td>2024-11-28</td>\n",
       "    </tr>\n",
       "    <tr>\n",
       "      <th>5</th>\n",
       "      <td>6</td>\n",
       "      <td>72</td>\n",
       "      <td>318</td>\n",
       "      <td>10</td>\n",
       "      <td>3</td>\n",
       "      <td>2024-11-27</td>\n",
       "    </tr>\n",
       "    <tr>\n",
       "      <th>6</th>\n",
       "      <td>7</td>\n",
       "      <td>75</td>\n",
       "      <td>183</td>\n",
       "      <td>3</td>\n",
       "      <td>3</td>\n",
       "      <td>2024-11-26</td>\n",
       "    </tr>\n",
       "  </tbody>\n",
       "</table>\n",
       "</div>"
      ],
      "text/plain": [
       "   id  performance_score  activity_score  grade  score_ownwer_id recorded_at\n",
       "0   1                 98             496     10                3  2024-12-02\n",
       "1   2                 95             279      4                3  2024-12-01\n",
       "2   3                 72             451      9                3  2024-11-30\n",
       "3   4                 98             301     10                3  2024-11-29\n",
       "4   5                 80             445      5                3  2024-11-28\n",
       "5   6                 72             318     10                3  2024-11-27\n",
       "6   7                 75             183      3                3  2024-11-26"
      ]
     },
     "execution_count": 9,
     "metadata": {},
     "output_type": "execute_result"
    }
   ],
   "source": [
    "query_climb = 'SELECT * FROM climbs'\n",
    "climbs_df = pd.read_sql_query(query_climb, connection)\n",
    "climbs_df \n",
    "\n",
    "query_user = 'SELECT * FROM users'\n",
    "user_df = pd.read_sql_query(query_user, connection)\n",
    "user_df\n",
    "\n",
    "query_score = 'SELECT * FROM score'\n",
    "score_df = pd.read_sql_query(query_score, connection)\n",
    "score_df"
   ]
  },
  {
   "cell_type": "code",
   "execution_count": 10,
   "metadata": {},
   "outputs": [],
   "source": [
    "# this returns today's climbing activity of user with specified id\n",
    "def excercise_today(id):\n",
    "    user_climb_data = climbs_df[climbs_df.upload_author_id==id] # make the value inside upload_author_id dynamic\n",
    "    user_climb_data['date_logged'] = pd.to_datetime(user_climb_data.date_logged) # convert the value to datetime format for conpatibility\n",
    "    user_data_today = user_climb_data[user_climb_data['date_logged'].dt.date == datetime.now().date()]\n",
    "    if user_data_today.empty: # need to implement error handling in case there is no excersize history that day\n",
    "        return None\n",
    "    else:\n",
    "        return user_data_today\n",
    "    \n",
    "# climbs_completed = excercise_today(3)[excercise_today(3).completed == True]\n",
    "# climbs_completed"
   ]
  },
  {
   "cell_type": "code",
   "execution_count": 11,
   "metadata": {},
   "outputs": [],
   "source": [
    "# this returns max_grade of the user with specified id \n",
    "def user_max(id):\n",
    "    user_detail = user_df[user_df.id == id]\n",
    "    return int(user_detail.current_grade)\n",
    "\n",
    "# user_max(3)"
   ]
  },
  {
   "cell_type": "code",
   "execution_count": 12,
   "metadata": {},
   "outputs": [],
   "source": [
    "# this returns performance score based solely on the attempt number and the grade which is before being refined to the final score \n",
    "\n",
    "def performance_score(id):\n",
    "    max_attempts = 100\n",
    "    grade = excercise_today(id)[excercise_today(id).completed == True].grade # this ensures that its getting only completed climbs\n",
    "    user_max_grade = user_max(id)\n",
    "    user_attempt = excercise_today(id)[excercise_today(id).completed == True].attempt # this ensures that its getting only completed climbs\n",
    "    intensity_level = grade / user_max_grade\n",
    "    score = intensity_level * (max_attempts / (user_attempt + max_attempts)) * 100\n",
    "    # print(score)\n",
    "    return int(score.mean())\n",
    "\n",
    "# performance_score(3)"
   ]
  },
  {
   "cell_type": "code",
   "execution_count": 13,
   "metadata": {},
   "outputs": [
    {
     "name": "stdout",
     "output_type": "stream",
     "text": [
      "80\n"
     ]
    },
    {
     "name": "stderr",
     "output_type": "stream",
     "text": [
      "/var/folders/80/hv8gpdgn6tndvgyr9pwntpz40000gn/T/ipykernel_63000/13646849.py:4: SettingWithCopyWarning: \n",
      "A value is trying to be set on a copy of a slice from a DataFrame.\n",
      "Try using .loc[row_indexer,col_indexer] = value instead\n",
      "\n",
      "See the caveats in the documentation: https://pandas.pydata.org/pandas-docs/stable/user_guide/indexing.html#returning-a-view-versus-a-copy\n",
      "  user_climb_data['date_logged'] = pd.to_datetime(user_climb_data.date_logged) # convert the value to datetime format for conpatibility\n",
      "/var/folders/80/hv8gpdgn6tndvgyr9pwntpz40000gn/T/ipykernel_63000/13646849.py:4: SettingWithCopyWarning: \n",
      "A value is trying to be set on a copy of a slice from a DataFrame.\n",
      "Try using .loc[row_indexer,col_indexer] = value instead\n",
      "\n",
      "See the caveats in the documentation: https://pandas.pydata.org/pandas-docs/stable/user_guide/indexing.html#returning-a-view-versus-a-copy\n",
      "  user_climb_data['date_logged'] = pd.to_datetime(user_climb_data.date_logged) # convert the value to datetime format for conpatibility\n",
      "/var/folders/80/hv8gpdgn6tndvgyr9pwntpz40000gn/T/ipykernel_63000/4045854558.py:4: FutureWarning: Calling int on a single element Series is deprecated and will raise a TypeError in the future. Use int(ser.iloc[0]) instead\n",
      "  return int(user_detail.current_grade)\n",
      "/var/folders/80/hv8gpdgn6tndvgyr9pwntpz40000gn/T/ipykernel_63000/13646849.py:4: SettingWithCopyWarning: \n",
      "A value is trying to be set on a copy of a slice from a DataFrame.\n",
      "Try using .loc[row_indexer,col_indexer] = value instead\n",
      "\n",
      "See the caveats in the documentation: https://pandas.pydata.org/pandas-docs/stable/user_guide/indexing.html#returning-a-view-versus-a-copy\n",
      "  user_climb_data['date_logged'] = pd.to_datetime(user_climb_data.date_logged) # convert the value to datetime format for conpatibility\n",
      "/var/folders/80/hv8gpdgn6tndvgyr9pwntpz40000gn/T/ipykernel_63000/13646849.py:4: SettingWithCopyWarning: \n",
      "A value is trying to be set on a copy of a slice from a DataFrame.\n",
      "Try using .loc[row_indexer,col_indexer] = value instead\n",
      "\n",
      "See the caveats in the documentation: https://pandas.pydata.org/pandas-docs/stable/user_guide/indexing.html#returning-a-view-versus-a-copy\n",
      "  user_climb_data['date_logged'] = pd.to_datetime(user_climb_data.date_logged) # convert the value to datetime format for conpatibility\n",
      "/var/folders/80/hv8gpdgn6tndvgyr9pwntpz40000gn/T/ipykernel_63000/4045854558.py:4: FutureWarning: Calling int on a single element Series is deprecated and will raise a TypeError in the future. Use int(ser.iloc[0]) instead\n",
      "  return int(user_detail.current_grade)\n",
      "/var/folders/80/hv8gpdgn6tndvgyr9pwntpz40000gn/T/ipykernel_63000/13646849.py:4: SettingWithCopyWarning: \n",
      "A value is trying to be set on a copy of a slice from a DataFrame.\n",
      "Try using .loc[row_indexer,col_indexer] = value instead\n",
      "\n",
      "See the caveats in the documentation: https://pandas.pydata.org/pandas-docs/stable/user_guide/indexing.html#returning-a-view-versus-a-copy\n",
      "  user_climb_data['date_logged'] = pd.to_datetime(user_climb_data.date_logged) # convert the value to datetime format for conpatibility\n",
      "/var/folders/80/hv8gpdgn6tndvgyr9pwntpz40000gn/T/ipykernel_63000/13646849.py:4: SettingWithCopyWarning: \n",
      "A value is trying to be set on a copy of a slice from a DataFrame.\n",
      "Try using .loc[row_indexer,col_indexer] = value instead\n",
      "\n",
      "See the caveats in the documentation: https://pandas.pydata.org/pandas-docs/stable/user_guide/indexing.html#returning-a-view-versus-a-copy\n",
      "  user_climb_data['date_logged'] = pd.to_datetime(user_climb_data.date_logged) # convert the value to datetime format for conpatibility\n"
     ]
    }
   ],
   "source": [
    "def final_score(id):\n",
    "    score = performance_score(id)\n",
    "    user_max_grade = user_max(id)\n",
    "    climbs_completed = excercise_today(id)[excercise_today(id).completed == True]\n",
    "    completed_climb_num = climbs_completed.count().grade\n",
    "    completed_climb_num\n",
    "\n",
    "    # add or deduct number from perfromnace score based on the number of climbs completed\n",
    "    if completed_climb_num == 1:\n",
    "        score -= 7\n",
    "    elif completed_climb_num == 2:\n",
    "        score -= 6\n",
    "    elif completed_climb_num == 3:\n",
    "        score -= 5\n",
    "    elif completed_climb_num == 4:\n",
    "        score += 5\n",
    "    elif completed_climb_num == 5:\n",
    "        score += 6\n",
    "    elif completed_climb_num == 6:\n",
    "        score += 7\n",
    "    elif completed_climb_num > 6:\n",
    "        score += 10\n",
    "\n",
    "    # give extra score if the user cpmpleted climbs with the grade higher than the grade 2 grades lower than their max grade\n",
    "    base_hard_climbs = climbs_completed[climbs_completed.grade >= user_max_grade -2].count().id\n",
    "    score += base_hard_climbs * 5\n",
    "    score\n",
    "\n",
    "    # give extra score if the user cpmpleted their max grade\n",
    "    max_grade = climbs_completed[climbs_completed.grade == user_max_grade].count().id\n",
    "    score += max_grade * 5\n",
    "\n",
    "    # give extra score if the user cpmpleted climbs with the grade higher than their max grade\n",
    "    hard_grade = climbs_completed[climbs_completed.grade > user_max_grade].count().id\n",
    "    score += hard_grade * 10\n",
    "\n",
    "    if score > 100:\n",
    "        score = 100\n",
    "    return score\n",
    "\n",
    "print(final_score(3))"
   ]
  },
  {
   "cell_type": "code",
   "execution_count": 14,
   "metadata": {},
   "outputs": [
    {
     "data": {
      "text/html": [
       "<div>\n",
       "<style scoped>\n",
       "    .dataframe tbody tr th:only-of-type {\n",
       "        vertical-align: middle;\n",
       "    }\n",
       "\n",
       "    .dataframe tbody tr th {\n",
       "        vertical-align: top;\n",
       "    }\n",
       "\n",
       "    .dataframe thead th {\n",
       "        text-align: right;\n",
       "    }\n",
       "</style>\n",
       "<table border=\"1\" class=\"dataframe\">\n",
       "  <thead>\n",
       "    <tr style=\"text-align: right;\">\n",
       "      <th></th>\n",
       "      <th>id</th>\n",
       "      <th>performance_score</th>\n",
       "      <th>activity_score</th>\n",
       "      <th>grade</th>\n",
       "      <th>score_ownwer_id</th>\n",
       "      <th>recorded_at</th>\n",
       "    </tr>\n",
       "  </thead>\n",
       "  <tbody>\n",
       "    <tr>\n",
       "      <th>0</th>\n",
       "      <td>1</td>\n",
       "      <td>98</td>\n",
       "      <td>496</td>\n",
       "      <td>10</td>\n",
       "      <td>3</td>\n",
       "      <td>2024-12-02</td>\n",
       "    </tr>\n",
       "    <tr>\n",
       "      <th>1</th>\n",
       "      <td>2</td>\n",
       "      <td>95</td>\n",
       "      <td>279</td>\n",
       "      <td>4</td>\n",
       "      <td>3</td>\n",
       "      <td>2024-12-01</td>\n",
       "    </tr>\n",
       "    <tr>\n",
       "      <th>2</th>\n",
       "      <td>3</td>\n",
       "      <td>72</td>\n",
       "      <td>451</td>\n",
       "      <td>9</td>\n",
       "      <td>3</td>\n",
       "      <td>2024-11-30</td>\n",
       "    </tr>\n",
       "    <tr>\n",
       "      <th>3</th>\n",
       "      <td>4</td>\n",
       "      <td>98</td>\n",
       "      <td>301</td>\n",
       "      <td>10</td>\n",
       "      <td>3</td>\n",
       "      <td>2024-11-29</td>\n",
       "    </tr>\n",
       "    <tr>\n",
       "      <th>4</th>\n",
       "      <td>5</td>\n",
       "      <td>80</td>\n",
       "      <td>445</td>\n",
       "      <td>5</td>\n",
       "      <td>3</td>\n",
       "      <td>2024-11-28</td>\n",
       "    </tr>\n",
       "    <tr>\n",
       "      <th>5</th>\n",
       "      <td>6</td>\n",
       "      <td>72</td>\n",
       "      <td>318</td>\n",
       "      <td>10</td>\n",
       "      <td>3</td>\n",
       "      <td>2024-11-27</td>\n",
       "    </tr>\n",
       "    <tr>\n",
       "      <th>6</th>\n",
       "      <td>7</td>\n",
       "      <td>75</td>\n",
       "      <td>183</td>\n",
       "      <td>3</td>\n",
       "      <td>3</td>\n",
       "      <td>2024-11-26</td>\n",
       "    </tr>\n",
       "  </tbody>\n",
       "</table>\n",
       "</div>"
      ],
      "text/plain": [
       "   id  performance_score  activity_score  grade  score_ownwer_id recorded_at\n",
       "0   1                 98             496     10                3  2024-12-02\n",
       "1   2                 95             279      4                3  2024-12-01\n",
       "2   3                 72             451      9                3  2024-11-30\n",
       "3   4                 98             301     10                3  2024-11-29\n",
       "4   5                 80             445      5                3  2024-11-28\n",
       "5   6                 72             318     10                3  2024-11-27\n",
       "6   7                 75             183      3                3  2024-11-26"
      ]
     },
     "execution_count": 14,
     "metadata": {},
     "output_type": "execute_result"
    }
   ],
   "source": [
    "score_df"
   ]
  },
  {
   "cell_type": "code",
   "execution_count": null,
   "metadata": {},
   "outputs": [],
   "source": []
  },
  {
   "cell_type": "code",
   "execution_count": null,
   "metadata": {},
   "outputs": [],
   "source": []
  },
  {
   "cell_type": "code",
   "execution_count": null,
   "metadata": {},
   "outputs": [],
   "source": []
  },
  {
   "cell_type": "code",
   "execution_count": null,
   "metadata": {},
   "outputs": [],
   "source": []
  },
  {
   "cell_type": "code",
   "execution_count": null,
   "metadata": {},
   "outputs": [],
   "source": []
  },
  {
   "cell_type": "code",
   "execution_count": null,
   "metadata": {},
   "outputs": [],
   "source": []
  },
  {
   "cell_type": "code",
   "execution_count": null,
   "metadata": {},
   "outputs": [],
   "source": [
    "\n"
   ]
  },
  {
   "cell_type": "code",
   "execution_count": null,
   "metadata": {},
   "outputs": [],
   "source": []
  },
  {
   "cell_type": "code",
   "execution_count": null,
   "metadata": {},
   "outputs": [],
   "source": []
  },
  {
   "cell_type": "code",
   "execution_count": null,
   "metadata": {},
   "outputs": [],
   "source": []
  },
  {
   "cell_type": "code",
   "execution_count": null,
   "metadata": {},
   "outputs": [],
   "source": []
  },
  {
   "cell_type": "code",
   "execution_count": null,
   "metadata": {},
   "outputs": [],
   "source": []
  },
  {
   "cell_type": "code",
   "execution_count": null,
   "metadata": {},
   "outputs": [],
   "source": []
  },
  {
   "cell_type": "code",
   "execution_count": null,
   "metadata": {},
   "outputs": [],
   "source": []
  }
 ],
 "metadata": {
  "kernelspec": {
   "display_name": "Python 3",
   "language": "python",
   "name": "python3"
  },
  "language_info": {
   "codemirror_mode": {
    "name": "ipython",
    "version": 3
   },
   "file_extension": ".py",
   "mimetype": "text/x-python",
   "name": "python",
   "nbconvert_exporter": "python",
   "pygments_lexer": "ipython3",
   "version": "3.12.2"
  }
 },
 "nbformat": 4,
 "nbformat_minor": 2
}
