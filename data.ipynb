{
 "cells": [
  {
   "cell_type": "code",
   "execution_count": 105,
   "metadata": {},
   "outputs": [],
   "source": [
    "import pandas as pd \n",
    "import sqlite3\n",
    "from datetime import datetime, timedelta\n",
    "import matplotlib.pyplot as plt "
   ]
  },
  {
   "cell_type": "code",
   "execution_count": 106,
   "metadata": {},
   "outputs": [
    {
     "name": "stdout",
     "output_type": "stream",
     "text": [
      "[('users',), ('climbs',), ('score',), ('comments',)]\n"
     ]
    }
   ],
   "source": [
    "db_path = \"/Users/yuta/Desktop/climb_proj/instance/climbs.db\"\n",
    "\n",
    "connection = sqlite3.connect(db_path)\n",
    "cursor = connection.cursor()\n",
    "cursor.execute(\"SELECT name FROM sqlite_master WHERE type='table';\")\n",
    "print(cursor.fetchall())"
   ]
  },
  {
   "cell_type": "code",
   "execution_count": 107,
   "metadata": {},
   "outputs": [
    {
     "name": "stdout",
     "output_type": "stream",
     "text": [
      "/Users/yuta/Desktop/climb_proj/instance/climbs.db\n"
     ]
    }
   ],
   "source": [
    "import os \n",
    "print(os.path.abspath(db_path))"
   ]
  },
  {
   "cell_type": "code",
   "execution_count": 108,
   "metadata": {},
   "outputs": [
    {
     "data": {
      "text/html": [
       "<div>\n",
       "<style scoped>\n",
       "    .dataframe tbody tr th:only-of-type {\n",
       "        vertical-align: middle;\n",
       "    }\n",
       "\n",
       "    .dataframe tbody tr th {\n",
       "        vertical-align: top;\n",
       "    }\n",
       "\n",
       "    .dataframe thead th {\n",
       "        text-align: right;\n",
       "    }\n",
       "</style>\n",
       "<table border=\"1\" class=\"dataframe\">\n",
       "  <thead>\n",
       "    <tr style=\"text-align: right;\">\n",
       "      <th></th>\n",
       "      <th>id</th>\n",
       "      <th>user_name</th>\n",
       "      <th>user_icon</th>\n",
       "      <th>email</th>\n",
       "      <th>password</th>\n",
       "      <th>current_grade</th>\n",
       "      <th>home_gym</th>\n",
       "    </tr>\n",
       "  </thead>\n",
       "  <tbody>\n",
       "    <tr>\n",
       "      <th>0</th>\n",
       "      <td>1</td>\n",
       "      <td>JohnDoe</td>\n",
       "      <td>/static/icons/johndoe_icon.png</td>\n",
       "      <td>john.doe@example.com</td>\n",
       "      <td>password123</td>\n",
       "      <td>V5</td>\n",
       "      <td>Mountain Gym</td>\n",
       "    </tr>\n",
       "    <tr>\n",
       "      <th>1</th>\n",
       "      <td>2</td>\n",
       "      <td>JaneSmith</td>\n",
       "      <td>/static/icons/janesmith_icon.png</td>\n",
       "      <td>jane.smith@example.com</td>\n",
       "      <td>password123</td>\n",
       "      <td>V3</td>\n",
       "      <td>Rock Center</td>\n",
       "    </tr>\n",
       "    <tr>\n",
       "      <th>2</th>\n",
       "      <td>3</td>\n",
       "      <td>aa</td>\n",
       "      <td>None</td>\n",
       "      <td>aa</td>\n",
       "      <td>pbkdf2:sha256:600000$DSPc8bd3$e39f15b0afd3fc6f...</td>\n",
       "      <td>5</td>\n",
       "      <td></td>\n",
       "    </tr>\n",
       "    <tr>\n",
       "      <th>3</th>\n",
       "      <td>4</td>\n",
       "      <td>ww</td>\n",
       "      <td>None</td>\n",
       "      <td>ww</td>\n",
       "      <td>pbkdf2:sha256:600000$hQF9UJkz$c768d9e258d24278...</td>\n",
       "      <td>5</td>\n",
       "      <td></td>\n",
       "    </tr>\n",
       "    <tr>\n",
       "      <th>4</th>\n",
       "      <td>5</td>\n",
       "      <td>ss</td>\n",
       "      <td>None</td>\n",
       "      <td>ss</td>\n",
       "      <td>pbkdf2:sha256:600000$Hgd4eTdB$bc7f775209cf8975...</td>\n",
       "      <td>1</td>\n",
       "      <td></td>\n",
       "    </tr>\n",
       "    <tr>\n",
       "      <th>5</th>\n",
       "      <td>6</td>\n",
       "      <td>zz</td>\n",
       "      <td>None</td>\n",
       "      <td>zzz</td>\n",
       "      <td>pbkdf2:sha256:600000$YKDKCg6u$4ec2bc695167b780...</td>\n",
       "      <td>5</td>\n",
       "      <td></td>\n",
       "    </tr>\n",
       "  </tbody>\n",
       "</table>\n",
       "</div>"
      ],
      "text/plain": [
       "   id  user_name                         user_icon                   email  \\\n",
       "0   1    JohnDoe    /static/icons/johndoe_icon.png    john.doe@example.com   \n",
       "1   2  JaneSmith  /static/icons/janesmith_icon.png  jane.smith@example.com   \n",
       "2   3         aa                              None                      aa   \n",
       "3   4         ww                              None                      ww   \n",
       "4   5         ss                              None                      ss   \n",
       "5   6         zz                              None                     zzz   \n",
       "\n",
       "                                            password current_grade  \\\n",
       "0                                        password123            V5   \n",
       "1                                        password123            V3   \n",
       "2  pbkdf2:sha256:600000$DSPc8bd3$e39f15b0afd3fc6f...             5   \n",
       "3  pbkdf2:sha256:600000$hQF9UJkz$c768d9e258d24278...             5   \n",
       "4  pbkdf2:sha256:600000$Hgd4eTdB$bc7f775209cf8975...             1   \n",
       "5  pbkdf2:sha256:600000$YKDKCg6u$4ec2bc695167b780...             5   \n",
       "\n",
       "       home_gym  \n",
       "0  Mountain Gym  \n",
       "1   Rock Center  \n",
       "2                \n",
       "3                \n",
       "4                \n",
       "5                "
      ]
     },
     "execution_count": 108,
     "metadata": {},
     "output_type": "execute_result"
    }
   ],
   "source": [
    "class DataFrame:\n",
    "    def __init__(self):\n",
    "        query_climb = 'SELECT * FROM climbs'\n",
    "        self.climbs_df = pd.read_sql_query(query_climb, connection)\n",
    "\n",
    "        query_user = 'SELECT * FROM users'\n",
    "        self.user_df = pd.read_sql_query(query_user, connection)\n",
    "\n",
    "        query_score = 'SELECT * FROM score'\n",
    "        self.score_df = pd.read_sql_query(query_score, connection)\n",
    "\n",
    "df = DataFrame()\n",
    "df.user_df\n"
   ]
  },
  {
   "cell_type": "code",
   "execution_count": 109,
   "metadata": {},
   "outputs": [],
   "source": [
    "# this returns today's climbing activity of user with specified id\n",
    "def excercise_today(id):\n",
    "    df = DataFrame()\n",
    "    user_climb_data = df.climbs_df[df.climbs_df.upload_author_id==id] # make the value inside upload_author_id dynamic\n",
    "    user_climb_data['date_logged'] = pd.to_datetime(user_climb_data.date_logged) # convert the value to datetime format for conpatibility\n",
    "    user_data_today = user_climb_data[user_climb_data['date_logged'].dt.date == datetime.now().date()]\n",
    "    if user_data_today.empty: # need to implement error handling in case there is no excersize history that day\n",
    "        return None\n",
    "    else:\n",
    "        return user_data_today\n",
    "    \n",
    "# climbs_completed = excercise_today(3)[excercise_today(3).completed == True]\n",
    "# climbs_completed"
   ]
  },
  {
   "cell_type": "code",
   "execution_count": 110,
   "metadata": {},
   "outputs": [
    {
     "name": "stderr",
     "output_type": "stream",
     "text": [
      "/var/folders/80/hv8gpdgn6tndvgyr9pwntpz40000gn/T/ipykernel_77386/3681893202.py:5: FutureWarning: Calling int on a single element Series is deprecated and will raise a TypeError in the future. Use int(ser.iloc[0]) instead\n",
      "  return int(user_detail.current_grade)\n"
     ]
    },
    {
     "data": {
      "text/plain": [
       "5"
      ]
     },
     "execution_count": 110,
     "metadata": {},
     "output_type": "execute_result"
    }
   ],
   "source": [
    "# this returns max_grade of the user with specified id \n",
    "def user_max(id):\n",
    "    df = DataFrame()\n",
    "    user_detail = df.user_df[df.user_df.id == id]\n",
    "    return int(user_detail.current_grade)\n",
    "\n",
    "user_max(3)"
   ]
  },
  {
   "cell_type": "code",
   "execution_count": 111,
   "metadata": {},
   "outputs": [
    {
     "name": "stderr",
     "output_type": "stream",
     "text": [
      "/var/folders/80/hv8gpdgn6tndvgyr9pwntpz40000gn/T/ipykernel_77386/3976905911.py:5: SettingWithCopyWarning: \n",
      "A value is trying to be set on a copy of a slice from a DataFrame.\n",
      "Try using .loc[row_indexer,col_indexer] = value instead\n",
      "\n",
      "See the caveats in the documentation: https://pandas.pydata.org/pandas-docs/stable/user_guide/indexing.html#returning-a-view-versus-a-copy\n",
      "  user_climb_data['date_logged'] = pd.to_datetime(user_climb_data.date_logged) # convert the value to datetime format for conpatibility\n",
      "/var/folders/80/hv8gpdgn6tndvgyr9pwntpz40000gn/T/ipykernel_77386/3976905911.py:5: SettingWithCopyWarning: \n",
      "A value is trying to be set on a copy of a slice from a DataFrame.\n",
      "Try using .loc[row_indexer,col_indexer] = value instead\n",
      "\n",
      "See the caveats in the documentation: https://pandas.pydata.org/pandas-docs/stable/user_guide/indexing.html#returning-a-view-versus-a-copy\n",
      "  user_climb_data['date_logged'] = pd.to_datetime(user_climb_data.date_logged) # convert the value to datetime format for conpatibility\n"
     ]
    },
    {
     "ename": "AttributeError",
     "evalue": "'NoneType' object has no attribute 'completed'",
     "output_type": "error",
     "traceback": [
      "\u001b[0;31m---------------------------------------------------------------------------\u001b[0m",
      "\u001b[0;31mAttributeError\u001b[0m                            Traceback (most recent call last)",
      "Cell \u001b[0;32mIn[111], line 11\u001b[0m\n\u001b[1;32m      8\u001b[0m     score \u001b[38;5;241m=\u001b[39m intensity_level \u001b[38;5;241m*\u001b[39m (max_attempts \u001b[38;5;241m/\u001b[39m (user_attempt \u001b[38;5;241m+\u001b[39m max_attempts)) \u001b[38;5;241m*\u001b[39m \u001b[38;5;241m100\u001b[39m\n\u001b[1;32m      9\u001b[0m     \u001b[38;5;28;01mreturn\u001b[39;00m \u001b[38;5;28mint\u001b[39m(score\u001b[38;5;241m.\u001b[39mmean())\n\u001b[0;32m---> 11\u001b[0m \u001b[43mperformance_score\u001b[49m\u001b[43m(\u001b[49m\u001b[38;5;241;43m3\u001b[39;49m\u001b[43m)\u001b[49m\n",
      "Cell \u001b[0;32mIn[111], line 4\u001b[0m, in \u001b[0;36mperformance_score\u001b[0;34m(id)\u001b[0m\n\u001b[1;32m      2\u001b[0m \u001b[38;5;28;01mdef\u001b[39;00m \u001b[38;5;21mperformance_score\u001b[39m(\u001b[38;5;28mid\u001b[39m):\n\u001b[1;32m      3\u001b[0m     max_attempts \u001b[38;5;241m=\u001b[39m \u001b[38;5;241m100\u001b[39m\n\u001b[0;32m----> 4\u001b[0m     grade \u001b[38;5;241m=\u001b[39m excercise_today(\u001b[38;5;28mid\u001b[39m)[\u001b[43mexcercise_today\u001b[49m\u001b[43m(\u001b[49m\u001b[38;5;28;43mid\u001b[39;49m\u001b[43m)\u001b[49m\u001b[38;5;241;43m.\u001b[39;49m\u001b[43mcompleted\u001b[49m \u001b[38;5;241m==\u001b[39m \u001b[38;5;28;01mTrue\u001b[39;00m]\u001b[38;5;241m.\u001b[39mgrade \u001b[38;5;66;03m# this ensures that its getting only completed climbs\u001b[39;00m\n\u001b[1;32m      5\u001b[0m     user_max_grade \u001b[38;5;241m=\u001b[39m user_max(\u001b[38;5;28mid\u001b[39m)\n\u001b[1;32m      6\u001b[0m     user_attempt \u001b[38;5;241m=\u001b[39m excercise_today(\u001b[38;5;28mid\u001b[39m)[excercise_today(\u001b[38;5;28mid\u001b[39m)\u001b[38;5;241m.\u001b[39mcompleted \u001b[38;5;241m==\u001b[39m \u001b[38;5;28;01mTrue\u001b[39;00m]\u001b[38;5;241m.\u001b[39mattempt \u001b[38;5;66;03m# this ensures that its getting only completed climbs\u001b[39;00m\n",
      "\u001b[0;31mAttributeError\u001b[0m: 'NoneType' object has no attribute 'completed'"
     ]
    }
   ],
   "source": [
    "# this returns performance score based solely on the attempt number and the grade which is before being refined to the final score \n",
    "def performance_score(id):\n",
    "    max_attempts = 100\n",
    "    grade = excercise_today(id)[excercise_today(id).completed == True].grade # this ensures that its getting only completed climbs\n",
    "    user_max_grade = user_max(id)\n",
    "    user_attempt = excercise_today(id)[excercise_today(id).completed == True].attempt # this ensures that its getting only completed climbs\n",
    "    intensity_level = grade / user_max_grade\n",
    "    score = intensity_level * (max_attempts / (user_attempt + max_attempts)) * 100\n",
    "    return int(score.mean())\n",
    "\n",
    "performance_score(3)\n"
   ]
  },
  {
   "cell_type": "code",
   "execution_count": 112,
   "metadata": {},
   "outputs": [
    {
     "name": "stdout",
     "output_type": "stream",
     "text": [
      "9\n"
     ]
    },
    {
     "name": "stderr",
     "output_type": "stream",
     "text": [
      "/var/folders/80/hv8gpdgn6tndvgyr9pwntpz40000gn/T/ipykernel_77386/3976905911.py:5: SettingWithCopyWarning: \n",
      "A value is trying to be set on a copy of a slice from a DataFrame.\n",
      "Try using .loc[row_indexer,col_indexer] = value instead\n",
      "\n",
      "See the caveats in the documentation: https://pandas.pydata.org/pandas-docs/stable/user_guide/indexing.html#returning-a-view-versus-a-copy\n",
      "  user_climb_data['date_logged'] = pd.to_datetime(user_climb_data.date_logged) # convert the value to datetime format for conpatibility\n",
      "/var/folders/80/hv8gpdgn6tndvgyr9pwntpz40000gn/T/ipykernel_77386/3976905911.py:5: SettingWithCopyWarning: \n",
      "A value is trying to be set on a copy of a slice from a DataFrame.\n",
      "Try using .loc[row_indexer,col_indexer] = value instead\n",
      "\n",
      "See the caveats in the documentation: https://pandas.pydata.org/pandas-docs/stable/user_guide/indexing.html#returning-a-view-versus-a-copy\n",
      "  user_climb_data['date_logged'] = pd.to_datetime(user_climb_data.date_logged) # convert the value to datetime format for conpatibility\n",
      "/var/folders/80/hv8gpdgn6tndvgyr9pwntpz40000gn/T/ipykernel_77386/3681893202.py:5: FutureWarning: Calling int on a single element Series is deprecated and will raise a TypeError in the future. Use int(ser.iloc[0]) instead\n",
      "  return int(user_detail.current_grade)\n",
      "/var/folders/80/hv8gpdgn6tndvgyr9pwntpz40000gn/T/ipykernel_77386/3976905911.py:5: SettingWithCopyWarning: \n",
      "A value is trying to be set on a copy of a slice from a DataFrame.\n",
      "Try using .loc[row_indexer,col_indexer] = value instead\n",
      "\n",
      "See the caveats in the documentation: https://pandas.pydata.org/pandas-docs/stable/user_guide/indexing.html#returning-a-view-versus-a-copy\n",
      "  user_climb_data['date_logged'] = pd.to_datetime(user_climb_data.date_logged) # convert the value to datetime format for conpatibility\n",
      "/var/folders/80/hv8gpdgn6tndvgyr9pwntpz40000gn/T/ipykernel_77386/3976905911.py:5: SettingWithCopyWarning: \n",
      "A value is trying to be set on a copy of a slice from a DataFrame.\n",
      "Try using .loc[row_indexer,col_indexer] = value instead\n",
      "\n",
      "See the caveats in the documentation: https://pandas.pydata.org/pandas-docs/stable/user_guide/indexing.html#returning-a-view-versus-a-copy\n",
      "  user_climb_data['date_logged'] = pd.to_datetime(user_climb_data.date_logged) # convert the value to datetime format for conpatibility\n",
      "/var/folders/80/hv8gpdgn6tndvgyr9pwntpz40000gn/T/ipykernel_77386/3681893202.py:5: FutureWarning: Calling int on a single element Series is deprecated and will raise a TypeError in the future. Use int(ser.iloc[0]) instead\n",
      "  return int(user_detail.current_grade)\n",
      "/var/folders/80/hv8gpdgn6tndvgyr9pwntpz40000gn/T/ipykernel_77386/3976905911.py:5: SettingWithCopyWarning: \n",
      "A value is trying to be set on a copy of a slice from a DataFrame.\n",
      "Try using .loc[row_indexer,col_indexer] = value instead\n",
      "\n",
      "See the caveats in the documentation: https://pandas.pydata.org/pandas-docs/stable/user_guide/indexing.html#returning-a-view-versus-a-copy\n",
      "  user_climb_data['date_logged'] = pd.to_datetime(user_climb_data.date_logged) # convert the value to datetime format for conpatibility\n",
      "/var/folders/80/hv8gpdgn6tndvgyr9pwntpz40000gn/T/ipykernel_77386/3976905911.py:5: SettingWithCopyWarning: \n",
      "A value is trying to be set on a copy of a slice from a DataFrame.\n",
      "Try using .loc[row_indexer,col_indexer] = value instead\n",
      "\n",
      "See the caveats in the documentation: https://pandas.pydata.org/pandas-docs/stable/user_guide/indexing.html#returning-a-view-versus-a-copy\n",
      "  user_climb_data['date_logged'] = pd.to_datetime(user_climb_data.date_logged) # convert the value to datetime format for conpatibility\n"
     ]
    }
   ],
   "source": [
    "def final_score(id):\n",
    "    score = performance_score(id)\n",
    "    user_max_grade = user_max(id)\n",
    "    climbs_completed = excercise_today(id)[excercise_today(id).completed == True]\n",
    "    completed_climb_num = climbs_completed.count().grade\n",
    "    completed_climb_num\n",
    "\n",
    "    # add or deduct number from perfromnace score based on the number of climbs completed\n",
    "    if completed_climb_num == 1:\n",
    "        score -= 10\n",
    "    elif completed_climb_num == 2:\n",
    "        score -= 8\n",
    "    elif completed_climb_num == 3:\n",
    "        score -= 6\n",
    "    elif completed_climb_num == 4:\n",
    "        score -= 4\n",
    "    elif completed_climb_num == 5:\n",
    "        score += 3\n",
    "    elif completed_climb_num == 6:\n",
    "        score += 5\n",
    "    elif completed_climb_num > 6:\n",
    "        score += 7\n",
    "\n",
    "    # give extra score if the user cpmpleted climbs with the grade higher than the grade 2 grades lower than their max grade\n",
    "    base_hard_climbs = climbs_completed[climbs_completed.grade >= user_max_grade -2].count().id\n",
    "    score += base_hard_climbs * 2\n",
    "    score\n",
    "\n",
    "    # give extra score if the user cpmpleted their max grade\n",
    "    max_grade = climbs_completed[climbs_completed.grade == user_max_grade].count().id\n",
    "    score += max_grade * 3\n",
    "\n",
    "    # give extra score if the user cpmpleted climbs with the grade higher than their max grade\n",
    "    hard_grade = climbs_completed[climbs_completed.grade > user_max_grade].count().id\n",
    "    score += hard_grade * 5\n",
    "    \n",
    "    if score > 100:\n",
    "        score = 100\n",
    "    return score\n",
    "\n",
    "print(final_score(4))"
   ]
  },
  {
   "cell_type": "code",
   "execution_count": 113,
   "metadata": {},
   "outputs": [
    {
     "name": "stderr",
     "output_type": "stream",
     "text": [
      "/var/folders/80/hv8gpdgn6tndvgyr9pwntpz40000gn/T/ipykernel_77386/3245843569.py:5: SettingWithCopyWarning: \n",
      "A value is trying to be set on a copy of a slice from a DataFrame.\n",
      "Try using .loc[row_indexer,col_indexer] = value instead\n",
      "\n",
      "See the caveats in the documentation: https://pandas.pydata.org/pandas-docs/stable/user_guide/indexing.html#returning-a-view-versus-a-copy\n",
      "  score_df['recorded_at'] = pd.to_datetime(score_df.recorded_at)\n",
      "/var/folders/80/hv8gpdgn6tndvgyr9pwntpz40000gn/T/ipykernel_77386/3245843569.py:6: SettingWithCopyWarning: \n",
      "A value is trying to be set on a copy of a slice from a DataFrame.\n",
      "Try using .loc[row_indexer,col_indexer] = value instead\n",
      "\n",
      "See the caveats in the documentation: https://pandas.pydata.org/pandas-docs/stable/user_guide/indexing.html#returning-a-view-versus-a-copy\n",
      "  score_df['date'] = score_df['recorded_at'].dt.date\n"
     ]
    },
    {
     "data": {
      "text/html": [
       "<div>\n",
       "<style scoped>\n",
       "    .dataframe tbody tr th:only-of-type {\n",
       "        vertical-align: middle;\n",
       "    }\n",
       "\n",
       "    .dataframe tbody tr th {\n",
       "        vertical-align: top;\n",
       "    }\n",
       "\n",
       "    .dataframe thead th {\n",
       "        text-align: right;\n",
       "    }\n",
       "</style>\n",
       "<table border=\"1\" class=\"dataframe\">\n",
       "  <thead>\n",
       "    <tr style=\"text-align: right;\">\n",
       "      <th></th>\n",
       "      <th>id</th>\n",
       "      <th>performance_score</th>\n",
       "      <th>activity_score</th>\n",
       "      <th>grade</th>\n",
       "      <th>score_owner_id</th>\n",
       "      <th>recorded_at</th>\n",
       "      <th>date</th>\n",
       "    </tr>\n",
       "  </thead>\n",
       "  <tbody>\n",
       "    <tr>\n",
       "      <th>6</th>\n",
       "      <td>7</td>\n",
       "      <td>78</td>\n",
       "      <td>479</td>\n",
       "      <td>8.0</td>\n",
       "      <td>3</td>\n",
       "      <td>2024-11-30 17:55:17.304365</td>\n",
       "      <td>2024-11-30</td>\n",
       "    </tr>\n",
       "    <tr>\n",
       "      <th>5</th>\n",
       "      <td>6</td>\n",
       "      <td>94</td>\n",
       "      <td>374</td>\n",
       "      <td>8.0</td>\n",
       "      <td>3</td>\n",
       "      <td>2024-12-01 17:55:17.304365</td>\n",
       "      <td>2024-12-01</td>\n",
       "    </tr>\n",
       "    <tr>\n",
       "      <th>4</th>\n",
       "      <td>5</td>\n",
       "      <td>100</td>\n",
       "      <td>163</td>\n",
       "      <td>9.0</td>\n",
       "      <td>3</td>\n",
       "      <td>2024-12-02 17:55:17.304365</td>\n",
       "      <td>2024-12-02</td>\n",
       "    </tr>\n",
       "    <tr>\n",
       "      <th>3</th>\n",
       "      <td>4</td>\n",
       "      <td>75</td>\n",
       "      <td>279</td>\n",
       "      <td>4.0</td>\n",
       "      <td>3</td>\n",
       "      <td>2024-12-03 17:55:17.304365</td>\n",
       "      <td>2024-12-03</td>\n",
       "    </tr>\n",
       "    <tr>\n",
       "      <th>2</th>\n",
       "      <td>3</td>\n",
       "      <td>97</td>\n",
       "      <td>202</td>\n",
       "      <td>4.0</td>\n",
       "      <td>3</td>\n",
       "      <td>2024-12-04 17:55:17.304365</td>\n",
       "      <td>2024-12-04</td>\n",
       "    </tr>\n",
       "    <tr>\n",
       "      <th>1</th>\n",
       "      <td>2</td>\n",
       "      <td>91</td>\n",
       "      <td>217</td>\n",
       "      <td>7.0</td>\n",
       "      <td>3</td>\n",
       "      <td>2024-12-05 17:55:17.304365</td>\n",
       "      <td>2024-12-05</td>\n",
       "    </tr>\n",
       "    <tr>\n",
       "      <th>0</th>\n",
       "      <td>1</td>\n",
       "      <td>73</td>\n",
       "      <td>286</td>\n",
       "      <td>8.0</td>\n",
       "      <td>3</td>\n",
       "      <td>2024-12-06 17:55:17.304365</td>\n",
       "      <td>2024-12-06</td>\n",
       "    </tr>\n",
       "    <tr>\n",
       "      <th>22</th>\n",
       "      <td>23</td>\n",
       "      <td>87</td>\n",
       "      <td>1290</td>\n",
       "      <td>1.0</td>\n",
       "      <td>3</td>\n",
       "      <td>2024-12-12 21:09:03.540487</td>\n",
       "      <td>2024-12-12</td>\n",
       "    </tr>\n",
       "    <tr>\n",
       "      <th>47</th>\n",
       "      <td>48</td>\n",
       "      <td>100</td>\n",
       "      <td>1960</td>\n",
       "      <td>3.3</td>\n",
       "      <td>3</td>\n",
       "      <td>2024-12-13 15:09:10.296907</td>\n",
       "      <td>2024-12-13</td>\n",
       "    </tr>\n",
       "    <tr>\n",
       "      <th>48</th>\n",
       "      <td>49</td>\n",
       "      <td>9</td>\n",
       "      <td>20</td>\n",
       "      <td>1.0</td>\n",
       "      <td>3</td>\n",
       "      <td>2024-12-21 13:45:46.888612</td>\n",
       "      <td>2024-12-21</td>\n",
       "    </tr>\n",
       "  </tbody>\n",
       "</table>\n",
       "</div>"
      ],
      "text/plain": [
       "    id  performance_score  activity_score  grade  score_owner_id  \\\n",
       "6    7                 78             479    8.0               3   \n",
       "5    6                 94             374    8.0               3   \n",
       "4    5                100             163    9.0               3   \n",
       "3    4                 75             279    4.0               3   \n",
       "2    3                 97             202    4.0               3   \n",
       "1    2                 91             217    7.0               3   \n",
       "0    1                 73             286    8.0               3   \n",
       "22  23                 87            1290    1.0               3   \n",
       "47  48                100            1960    3.3               3   \n",
       "48  49                  9              20    1.0               3   \n",
       "\n",
       "                  recorded_at        date  \n",
       "6  2024-11-30 17:55:17.304365  2024-11-30  \n",
       "5  2024-12-01 17:55:17.304365  2024-12-01  \n",
       "4  2024-12-02 17:55:17.304365  2024-12-02  \n",
       "3  2024-12-03 17:55:17.304365  2024-12-03  \n",
       "2  2024-12-04 17:55:17.304365  2024-12-04  \n",
       "1  2024-12-05 17:55:17.304365  2024-12-05  \n",
       "0  2024-12-06 17:55:17.304365  2024-12-06  \n",
       "22 2024-12-12 21:09:03.540487  2024-12-12  \n",
       "47 2024-12-13 15:09:10.296907  2024-12-13  \n",
       "48 2024-12-21 13:45:46.888612  2024-12-21  "
      ]
     },
     "execution_count": 113,
     "metadata": {},
     "output_type": "execute_result"
    }
   ],
   "source": [
    "# this returns table formatted data frame for graph for keeping track of score and corolies bunred throughout a week \n",
    "def score_and_caroly(id):\n",
    "    df = DataFrame()\n",
    "    score_df = df.score_df[df.score_df.score_owner_id == id]\n",
    "    score_df['recorded_at'] = pd.to_datetime(score_df.recorded_at)\n",
    "    score_df['date'] = score_df['recorded_at'].dt.date\n",
    "    latest_per_day = score_df.loc[score_df.groupby('date')['recorded_at'].idxmax()]\n",
    "    return latest_per_day\n",
    "\n",
    "    # ax1 = plt.gca()  # Get the current axis\n",
    "    # ax2 = ax1.twinx()  # Create a second y-axis sharing the same x-axis\n",
    "\n",
    "    # # Set axis labels\n",
    "    # ax1.set_ylabel('Performance Score', color='#E6232E')\n",
    "    # ax2.set_ylabel('Calories Burned', color='skyblue')\n",
    "\n",
    "    # # Plot data on respective axes\n",
    "    # ax1.plot(latest_per_day.date, latest_per_day.performance_score, color='#E6232E')\n",
    "    # ax2.plot(latest_per_day.date, latest_per_day.activity_score, color='skyblue')\n",
    "\n",
    "    # # Set the y-axis minimum to 0 for both axes\n",
    "    # ax1.set_ylim(bottom=0)  # Set min value for the primary axis (Performance Score)\n",
    "    # ax2.set_ylim(bottom=0)  # Set min value for the secondary axis (Calories Burned)\n",
    "\n",
    "    # # Display the plot\n",
    "    # plt.show()\n",
    "score_and_caroly(3)"
   ]
  },
  {
   "cell_type": "code",
   "execution_count": null,
   "metadata": {},
   "outputs": [],
   "source": [
    "# returns average grade completed in the past 7 days \n",
    "def weekly_average_grade(id):  \n",
    "    df = DataFrame()\n",
    "    score_df = df.score_df[df.score_df['score_owner_id'] == id]\n",
    "    score_df['recorded_at'] = pd.to_datetime(score_df['recorded_at'])\n",
    "    score_df['date'] = score_df['recorded_at'].dt.date\n",
    "    latest_per_day = score_df.loc[score_df.groupby('date')['recorded_at'].idxmax()]\n",
    "\n",
    "    # Filter for the last 7 days\n",
    "    one_week_ago = datetime.now().date() - timedelta(days=7)\n",
    "    last_week_data = latest_per_day[latest_per_day['date'] >= one_week_ago]\n",
    "    mean_grade = last_week_data['grade'].mean()\n",
    "    return mean_grade\n"
   ]
  },
  {
   "cell_type": "code",
   "execution_count": null,
   "metadata": {},
   "outputs": [
    {
     "data": {
      "text/html": [
       "<div>\n",
       "<style scoped>\n",
       "    .dataframe tbody tr th:only-of-type {\n",
       "        vertical-align: middle;\n",
       "    }\n",
       "\n",
       "    .dataframe tbody tr th {\n",
       "        vertical-align: top;\n",
       "    }\n",
       "\n",
       "    .dataframe thead th {\n",
       "        text-align: right;\n",
       "    }\n",
       "</style>\n",
       "<table border=\"1\" class=\"dataframe\">\n",
       "  <thead>\n",
       "    <tr style=\"text-align: right;\">\n",
       "      <th></th>\n",
       "      <th>id</th>\n",
       "      <th>photo</th>\n",
       "      <th>completed</th>\n",
       "      <th>date_completed</th>\n",
       "      <th>style</th>\n",
       "      <th>evaluation</th>\n",
       "      <th>when_stripped</th>\n",
       "      <th>is_stripped</th>\n",
       "      <th>date_logged</th>\n",
       "      <th>attempt</th>\n",
       "      <th>total_attempts</th>\n",
       "      <th>upload_author_id</th>\n",
       "      <th>feel_strong</th>\n",
       "    </tr>\n",
       "    <tr>\n",
       "      <th>grade</th>\n",
       "      <th></th>\n",
       "      <th></th>\n",
       "      <th></th>\n",
       "      <th></th>\n",
       "      <th></th>\n",
       "      <th></th>\n",
       "      <th></th>\n",
       "      <th></th>\n",
       "      <th></th>\n",
       "      <th></th>\n",
       "      <th></th>\n",
       "      <th></th>\n",
       "      <th></th>\n",
       "    </tr>\n",
       "  </thead>\n",
       "  <tbody>\n",
       "    <tr>\n",
       "      <th>1</th>\n",
       "      <td>20</td>\n",
       "      <td>20</td>\n",
       "      <td>20</td>\n",
       "      <td>20</td>\n",
       "      <td>20</td>\n",
       "      <td>20</td>\n",
       "      <td>0</td>\n",
       "      <td>20</td>\n",
       "      <td>20</td>\n",
       "      <td>20</td>\n",
       "      <td>20</td>\n",
       "      <td>20</td>\n",
       "      <td>0</td>\n",
       "    </tr>\n",
       "    <tr>\n",
       "      <th>2</th>\n",
       "      <td>1</td>\n",
       "      <td>1</td>\n",
       "      <td>1</td>\n",
       "      <td>1</td>\n",
       "      <td>1</td>\n",
       "      <td>1</td>\n",
       "      <td>0</td>\n",
       "      <td>1</td>\n",
       "      <td>1</td>\n",
       "      <td>1</td>\n",
       "      <td>1</td>\n",
       "      <td>1</td>\n",
       "      <td>0</td>\n",
       "    </tr>\n",
       "    <tr>\n",
       "      <th>3</th>\n",
       "      <td>4</td>\n",
       "      <td>4</td>\n",
       "      <td>4</td>\n",
       "      <td>4</td>\n",
       "      <td>4</td>\n",
       "      <td>4</td>\n",
       "      <td>0</td>\n",
       "      <td>4</td>\n",
       "      <td>4</td>\n",
       "      <td>4</td>\n",
       "      <td>4</td>\n",
       "      <td>4</td>\n",
       "      <td>0</td>\n",
       "    </tr>\n",
       "    <tr>\n",
       "      <th>4</th>\n",
       "      <td>5</td>\n",
       "      <td>5</td>\n",
       "      <td>5</td>\n",
       "      <td>5</td>\n",
       "      <td>5</td>\n",
       "      <td>5</td>\n",
       "      <td>1</td>\n",
       "      <td>5</td>\n",
       "      <td>5</td>\n",
       "      <td>5</td>\n",
       "      <td>5</td>\n",
       "      <td>5</td>\n",
       "      <td>1</td>\n",
       "    </tr>\n",
       "    <tr>\n",
       "      <th>5</th>\n",
       "      <td>5</td>\n",
       "      <td>5</td>\n",
       "      <td>5</td>\n",
       "      <td>5</td>\n",
       "      <td>5</td>\n",
       "      <td>5</td>\n",
       "      <td>0</td>\n",
       "      <td>5</td>\n",
       "      <td>5</td>\n",
       "      <td>5</td>\n",
       "      <td>5</td>\n",
       "      <td>5</td>\n",
       "      <td>1</td>\n",
       "    </tr>\n",
       "    <tr>\n",
       "      <th>6</th>\n",
       "      <td>2</td>\n",
       "      <td>2</td>\n",
       "      <td>2</td>\n",
       "      <td>2</td>\n",
       "      <td>2</td>\n",
       "      <td>2</td>\n",
       "      <td>0</td>\n",
       "      <td>2</td>\n",
       "      <td>2</td>\n",
       "      <td>2</td>\n",
       "      <td>2</td>\n",
       "      <td>2</td>\n",
       "      <td>2</td>\n",
       "    </tr>\n",
       "    <tr>\n",
       "      <th>7</th>\n",
       "      <td>1</td>\n",
       "      <td>1</td>\n",
       "      <td>1</td>\n",
       "      <td>1</td>\n",
       "      <td>1</td>\n",
       "      <td>1</td>\n",
       "      <td>0</td>\n",
       "      <td>1</td>\n",
       "      <td>1</td>\n",
       "      <td>1</td>\n",
       "      <td>1</td>\n",
       "      <td>1</td>\n",
       "      <td>1</td>\n",
       "    </tr>\n",
       "    <tr>\n",
       "      <th>8</th>\n",
       "      <td>3</td>\n",
       "      <td>3</td>\n",
       "      <td>3</td>\n",
       "      <td>3</td>\n",
       "      <td>3</td>\n",
       "      <td>3</td>\n",
       "      <td>0</td>\n",
       "      <td>3</td>\n",
       "      <td>3</td>\n",
       "      <td>3</td>\n",
       "      <td>3</td>\n",
       "      <td>3</td>\n",
       "      <td>1</td>\n",
       "    </tr>\n",
       "    <tr>\n",
       "      <th>10</th>\n",
       "      <td>1</td>\n",
       "      <td>1</td>\n",
       "      <td>1</td>\n",
       "      <td>1</td>\n",
       "      <td>1</td>\n",
       "      <td>1</td>\n",
       "      <td>0</td>\n",
       "      <td>1</td>\n",
       "      <td>1</td>\n",
       "      <td>1</td>\n",
       "      <td>1</td>\n",
       "      <td>1</td>\n",
       "      <td>0</td>\n",
       "    </tr>\n",
       "    <tr>\n",
       "      <th>12</th>\n",
       "      <td>1</td>\n",
       "      <td>1</td>\n",
       "      <td>1</td>\n",
       "      <td>1</td>\n",
       "      <td>1</td>\n",
       "      <td>1</td>\n",
       "      <td>0</td>\n",
       "      <td>1</td>\n",
       "      <td>1</td>\n",
       "      <td>1</td>\n",
       "      <td>1</td>\n",
       "      <td>1</td>\n",
       "      <td>0</td>\n",
       "    </tr>\n",
       "  </tbody>\n",
       "</table>\n",
       "</div>"
      ],
      "text/plain": [
       "       id  photo  completed  date_completed  style  evaluation  when_stripped  \\\n",
       "grade                                                                           \n",
       "1      20     20         20              20     20          20              0   \n",
       "2       1      1          1               1      1           1              0   \n",
       "3       4      4          4               4      4           4              0   \n",
       "4       5      5          5               5      5           5              1   \n",
       "5       5      5          5               5      5           5              0   \n",
       "6       2      2          2               2      2           2              0   \n",
       "7       1      1          1               1      1           1              0   \n",
       "8       3      3          3               3      3           3              0   \n",
       "10      1      1          1               1      1           1              0   \n",
       "12      1      1          1               1      1           1              0   \n",
       "\n",
       "       is_stripped  date_logged  attempt  total_attempts  upload_author_id  \\\n",
       "grade                                                                        \n",
       "1               20           20       20              20                20   \n",
       "2                1            1        1               1                 1   \n",
       "3                4            4        4               4                 4   \n",
       "4                5            5        5               5                 5   \n",
       "5                5            5        5               5                 5   \n",
       "6                2            2        2               2                 2   \n",
       "7                1            1        1               1                 1   \n",
       "8                3            3        3               3                 3   \n",
       "10               1            1        1               1                 1   \n",
       "12               1            1        1               1                 1   \n",
       "\n",
       "       feel_strong  \n",
       "grade               \n",
       "1                0  \n",
       "2                0  \n",
       "3                0  \n",
       "4                1  \n",
       "5                1  \n",
       "6                2  \n",
       "7                1  \n",
       "8                1  \n",
       "10               0  \n",
       "12               0  "
      ]
     },
     "execution_count": 74,
     "metadata": {},
     "output_type": "execute_result"
    }
   ],
   "source": [
    "# this retunrs table format data frame for all climbs complete by grade \n",
    "def all_completed_grade(id):\n",
    "    df = DataFrame()\n",
    "    user_climbs = df.climbs_df[df.climbs_df['upload_author_id'] == id]\n",
    "    filtered_users_climbs = user_climbs[user_climbs['completed'] == True]\n",
    "    total_grade_completed = filtered_users_climbs.groupby('grade').count()\n",
    "    return total_grade_completed\n",
    "\n",
    "    # plt.bar(\n",
    "    #     total_grade_completed.index,  # Labels for each style (on x-axis)\n",
    "    #     total_grade_completed['id']   # Values for each style (on y-axis)\n",
    "    # )\n",
    "\n",
    "    # # Add a title\n",
    "    # plt.title('All Climbs Completed by Grade')\n",
    "\n",
    "    # # Display the chart\n",
    "    # plt.show()\n",
    "\n",
    "all_completed_grade(3)"
   ]
  },
  {
   "cell_type": "code",
   "execution_count": null,
   "metadata": {},
   "outputs": [
    {
     "data": {
      "text/html": [
       "<div>\n",
       "<style scoped>\n",
       "    .dataframe tbody tr th:only-of-type {\n",
       "        vertical-align: middle;\n",
       "    }\n",
       "\n",
       "    .dataframe tbody tr th {\n",
       "        vertical-align: top;\n",
       "    }\n",
       "\n",
       "    .dataframe thead th {\n",
       "        text-align: right;\n",
       "    }\n",
       "</style>\n",
       "<table border=\"1\" class=\"dataframe\">\n",
       "  <thead>\n",
       "    <tr style=\"text-align: right;\">\n",
       "      <th></th>\n",
       "      <th>id</th>\n",
       "    </tr>\n",
       "    <tr>\n",
       "      <th>style</th>\n",
       "      <th></th>\n",
       "    </tr>\n",
       "  </thead>\n",
       "  <tbody>\n",
       "    <tr>\n",
       "      <th>Balance</th>\n",
       "      <td>1</td>\n",
       "    </tr>\n",
       "    <tr>\n",
       "      <th>Climp</th>\n",
       "      <td>3</td>\n",
       "    </tr>\n",
       "    <tr>\n",
       "      <th>Cordination</th>\n",
       "      <td>3</td>\n",
       "    </tr>\n",
       "    <tr>\n",
       "      <th>Endurance</th>\n",
       "      <td>1</td>\n",
       "    </tr>\n",
       "    <tr>\n",
       "      <th>Finger</th>\n",
       "      <td>24</td>\n",
       "    </tr>\n",
       "    <tr>\n",
       "      <th>FootTech</th>\n",
       "      <td>2</td>\n",
       "    </tr>\n",
       "    <tr>\n",
       "      <th>Jug</th>\n",
       "      <td>1</td>\n",
       "    </tr>\n",
       "    <tr>\n",
       "      <th>Pinch</th>\n",
       "      <td>2</td>\n",
       "    </tr>\n",
       "    <tr>\n",
       "      <th>Pocket</th>\n",
       "      <td>2</td>\n",
       "    </tr>\n",
       "    <tr>\n",
       "      <th>Sloper</th>\n",
       "      <td>1</td>\n",
       "    </tr>\n",
       "    <tr>\n",
       "      <th>Technical</th>\n",
       "      <td>3</td>\n",
       "    </tr>\n",
       "  </tbody>\n",
       "</table>\n",
       "</div>"
      ],
      "text/plain": [
       "             id\n",
       "style          \n",
       "Balance       1\n",
       "Climp         3\n",
       "Cordination   3\n",
       "Endurance     1\n",
       "Finger       24\n",
       "FootTech      2\n",
       "Jug           1\n",
       "Pinch         2\n",
       "Pocket        2\n",
       "Sloper        1\n",
       "Technical     3"
      ]
     },
     "execution_count": 75,
     "metadata": {},
     "output_type": "execute_result"
    }
   ],
   "source": [
    "# this returns table formated data frame for style of all the climbs completed\n",
    "def style_completed(id):\n",
    "    df = DataFrame()\n",
    "    user_climbs = df.climbs_df[df.climbs_df['upload_author_id'] == id]\n",
    "    # print(user_climbs)\n",
    "    total_completed = user_climbs[user_climbs.completed == True]\n",
    "    total_completed = total_completed.groupby('style').count()\n",
    "    by_style = total_completed[['id']]\n",
    "    return by_style\n",
    "\n",
    "   # Create the bar chart\n",
    "    # plt.figure(figsize=(10, 6))  # Set figure size\n",
    "    # plt.barh(\n",
    "    #     by_style.index,  # Climb styles on y-axis\n",
    "    #     by_style['id'],  # Number of attempts on x-axis\n",
    "    #     color='skyblue'  # Bar color\n",
    "    # )\n",
    "    # plt.xlabel('Completed Num', fontsize=12)\n",
    "    # plt.ylabel('Genra', fontsize=12)\n",
    "    # plt.title('All Climbing Styles Completed', fontsize=14)\n",
    "    # plt.tight_layout()\n",
    "    # plt.show()\n",
    "\n",
    "style_completed(3)"
   ]
  },
  {
   "cell_type": "code",
   "execution_count": null,
   "metadata": {},
   "outputs": [
    {
     "name": "stderr",
     "output_type": "stream",
     "text": [
      "/var/folders/80/hv8gpdgn6tndvgyr9pwntpz40000gn/T/ipykernel_77386/4018518453.py:5: SettingWithCopyWarning: \n",
      "A value is trying to be set on a copy of a slice from a DataFrame.\n",
      "Try using .loc[row_indexer,col_indexer] = value instead\n",
      "\n",
      "See the caveats in the documentation: https://pandas.pydata.org/pandas-docs/stable/user_guide/indexing.html#returning-a-view-versus-a-copy\n",
      "  user_climbs['date_logged'] = pd.to_datetime(user_climbs.date_logged).dt.date\n"
     ]
    },
    {
     "data": {
      "text/plain": [
       "[{'Finger': np.int64(1)}]"
      ]
     },
     "execution_count": 76,
     "metadata": {},
     "output_type": "execute_result"
    }
   ],
   "source": [
    "# this returns a table format data with styles and number of climbs in each styles user attempted today \n",
    "def style_attempted(id):\n",
    "    df = DataFrame()\n",
    "    user_climbs = df.climbs_df[df.climbs_df['upload_author_id'] == id]\n",
    "    user_climbs['date_logged'] = pd.to_datetime(user_climbs.date_logged).dt.date\n",
    "    total_today = user_climbs[user_climbs.date_logged == datetime.now().date()]\n",
    "    total_today = total_today.groupby('style').count()\n",
    "    by_style = total_today[['id']]\n",
    "\n",
    "    json_output = [{style: row['id']} for style, row in by_style.iterrows()]\n",
    "    return json_output\n",
    "\n",
    "style_attempted(3)"
   ]
  },
  {
   "cell_type": "code",
   "execution_count": null,
   "metadata": {},
   "outputs": [
    {
     "data": {
      "text/html": [
       "<div>\n",
       "<style scoped>\n",
       "    .dataframe tbody tr th:only-of-type {\n",
       "        vertical-align: middle;\n",
       "    }\n",
       "\n",
       "    .dataframe tbody tr th {\n",
       "        vertical-align: top;\n",
       "    }\n",
       "\n",
       "    .dataframe thead th {\n",
       "        text-align: right;\n",
       "    }\n",
       "</style>\n",
       "<table border=\"1\" class=\"dataframe\">\n",
       "  <thead>\n",
       "    <tr style=\"text-align: right;\">\n",
       "      <th></th>\n",
       "      <th>grade</th>\n",
       "      <th>attempt</th>\n",
       "    </tr>\n",
       "  </thead>\n",
       "  <tbody>\n",
       "    <tr>\n",
       "      <th>49</th>\n",
       "      <td>1</td>\n",
       "      <td>2</td>\n",
       "    </tr>\n",
       "  </tbody>\n",
       "</table>\n",
       "</div>"
      ],
      "text/plain": [
       "    grade  attempt\n",
       "49      1        2"
      ]
     },
     "execution_count": 77,
     "metadata": {},
     "output_type": "execute_result"
    }
   ],
   "source": [
    "# this returns tabel formatted data frame for climbs attempted today by grade \n",
    "def grade_attempted(id):\n",
    "    df = DataFrame()\n",
    "    user_climbs = df.climbs_df[df.climbs_df['upload_author_id'] == id]\n",
    "    user_climbs = user_climbs[user_climbs.completed == True]\n",
    "    user_climbs['date_logged'] = pd.to_datetime(user_climbs.date_logged).dt.date\n",
    "    total_today = user_climbs[user_climbs.date_logged == datetime.now().date()]\n",
    "    filtered_total_today = total_today[['grade', 'attempt']]\n",
    "    return filtered_total_today\n",
    "    # print(filtered_total_today)\n",
    "    # plt.bar(\n",
    "    #     filtered_total_today['grade'],  # X-axis: grade values\n",
    "    #     filtered_total_today['attempt']  # Y-axis: attempt values\n",
    "    # )\n",
    "\n",
    "    # # Add labels and title\n",
    "    # plt.xlabel('Grade')  # Label for the x-axis\n",
    "    # plt.ylabel('Number of Attempts')  # Label for the y-axis\n",
    "    # plt.title('Grade Attempted today')  # Title of the chart\n",
    "    # plt.xticks(ticks=filtered_total_today['grade'], labels=filtered_total_today['grade'])\n",
    "\n",
    "    # # Display the chart\n",
    "    # plt.show()\n",
    "grade_attempted(3)"
   ]
  },
  {
   "cell_type": "code",
   "execution_count": null,
   "metadata": {},
   "outputs": [
    {
     "name": "stderr",
     "output_type": "stream",
     "text": [
      "/var/folders/80/hv8gpdgn6tndvgyr9pwntpz40000gn/T/ipykernel_77386/2538885710.py:5: SettingWithCopyWarning: \n",
      "A value is trying to be set on a copy of a slice from a DataFrame\n",
      "\n",
      "See the caveats in the documentation: https://pandas.pydata.org/pandas-docs/stable/user_guide/indexing.html#returning-a-view-versus-a-copy\n",
      "  latest_data['recorded_at'] = pd.to_datetime(latest_data.recorded_at).date()\n"
     ]
    },
    {
     "data": {
      "text/plain": [
       "0"
      ]
     },
     "execution_count": 78,
     "metadata": {},
     "output_type": "execute_result"
    }
   ],
   "source": [
    "def get_cal(id):\n",
    "    user_score = df.score_df[df.score_df['score_owner_id'] == id]\n",
    "    if not user_score.empty:\n",
    "        latest_data = user_score.loc[0]\n",
    "        latest_data['recorded_at'] = pd.to_datetime(latest_data.recorded_at).date()\n",
    "        if not latest_data.recorded_at == datetime.now().date():\n",
    "            return 0\n",
    "        else:\n",
    "            return latest_data.performance_score\n",
    "    else:\n",
    "        return 0\n",
    "get_cal(3)"
   ]
  },
  {
   "cell_type": "code",
   "execution_count": null,
   "metadata": {},
   "outputs": [
    {
     "data": {
      "text/plain": [
       "np.int64(43)"
      ]
     },
     "execution_count": 79,
     "metadata": {},
     "output_type": "execute_result"
    }
   ],
   "source": [
    "def all_climbs_num(id):\n",
    "    all_climbs_registered = df.climbs_df[df.climbs_df.upload_author_id == id]\n",
    "    return all_climbs_registered.count().id\n",
    "all_climbs_num(3)"
   ]
  },
  {
   "cell_type": "code",
   "execution_count": null,
   "metadata": {},
   "outputs": [
    {
     "data": {
      "text/plain": [
       "np.int64(43)"
      ]
     },
     "execution_count": 80,
     "metadata": {},
     "output_type": "execute_result"
    }
   ],
   "source": [
    "def climbs_completed(id):\n",
    "    all_climbs_registered = df.climbs_df[df.climbs_df.upload_author_id == id]\n",
    "    return all_climbs_registered[all_climbs_registered.completed == True].count().id\n",
    "climbs_completed(3)"
   ]
  },
  {
   "cell_type": "code",
   "execution_count": null,
   "metadata": {},
   "outputs": [
    {
     "name": "stderr",
     "output_type": "stream",
     "text": [
      "/var/folders/80/hv8gpdgn6tndvgyr9pwntpz40000gn/T/ipykernel_77386/3245843569.py:5: SettingWithCopyWarning: \n",
      "A value is trying to be set on a copy of a slice from a DataFrame.\n",
      "Try using .loc[row_indexer,col_indexer] = value instead\n",
      "\n",
      "See the caveats in the documentation: https://pandas.pydata.org/pandas-docs/stable/user_guide/indexing.html#returning-a-view-versus-a-copy\n",
      "  score_df['recorded_at'] = pd.to_datetime(score_df.recorded_at)\n",
      "/var/folders/80/hv8gpdgn6tndvgyr9pwntpz40000gn/T/ipykernel_77386/3245843569.py:6: SettingWithCopyWarning: \n",
      "A value is trying to be set on a copy of a slice from a DataFrame.\n",
      "Try using .loc[row_indexer,col_indexer] = value instead\n",
      "\n",
      "See the caveats in the documentation: https://pandas.pydata.org/pandas-docs/stable/user_guide/indexing.html#returning-a-view-versus-a-copy\n",
      "  score_df['date'] = score_df['recorded_at'].dt.date\n"
     ]
    },
    {
     "data": {
      "text/html": [
       "<div>\n",
       "<style scoped>\n",
       "    .dataframe tbody tr th:only-of-type {\n",
       "        vertical-align: middle;\n",
       "    }\n",
       "\n",
       "    .dataframe tbody tr th {\n",
       "        vertical-align: top;\n",
       "    }\n",
       "\n",
       "    .dataframe thead th {\n",
       "        text-align: right;\n",
       "    }\n",
       "</style>\n",
       "<table border=\"1\" class=\"dataframe\">\n",
       "  <thead>\n",
       "    <tr style=\"text-align: right;\">\n",
       "      <th></th>\n",
       "      <th>id</th>\n",
       "      <th>performance_score</th>\n",
       "      <th>activity_score</th>\n",
       "      <th>grade</th>\n",
       "      <th>score_owner_id</th>\n",
       "      <th>recorded_at</th>\n",
       "      <th>date</th>\n",
       "    </tr>\n",
       "  </thead>\n",
       "  <tbody>\n",
       "    <tr>\n",
       "      <th>6</th>\n",
       "      <td>7</td>\n",
       "      <td>78</td>\n",
       "      <td>479</td>\n",
       "      <td>8.0</td>\n",
       "      <td>3</td>\n",
       "      <td>2024-11-30 17:55:17.304365</td>\n",
       "      <td>2024-11-30</td>\n",
       "    </tr>\n",
       "    <tr>\n",
       "      <th>5</th>\n",
       "      <td>6</td>\n",
       "      <td>94</td>\n",
       "      <td>374</td>\n",
       "      <td>8.0</td>\n",
       "      <td>3</td>\n",
       "      <td>2024-12-01 17:55:17.304365</td>\n",
       "      <td>2024-12-01</td>\n",
       "    </tr>\n",
       "    <tr>\n",
       "      <th>4</th>\n",
       "      <td>5</td>\n",
       "      <td>100</td>\n",
       "      <td>163</td>\n",
       "      <td>9.0</td>\n",
       "      <td>3</td>\n",
       "      <td>2024-12-02 17:55:17.304365</td>\n",
       "      <td>2024-12-02</td>\n",
       "    </tr>\n",
       "    <tr>\n",
       "      <th>3</th>\n",
       "      <td>4</td>\n",
       "      <td>75</td>\n",
       "      <td>279</td>\n",
       "      <td>4.0</td>\n",
       "      <td>3</td>\n",
       "      <td>2024-12-03 17:55:17.304365</td>\n",
       "      <td>2024-12-03</td>\n",
       "    </tr>\n",
       "    <tr>\n",
       "      <th>2</th>\n",
       "      <td>3</td>\n",
       "      <td>97</td>\n",
       "      <td>202</td>\n",
       "      <td>4.0</td>\n",
       "      <td>3</td>\n",
       "      <td>2024-12-04 17:55:17.304365</td>\n",
       "      <td>2024-12-04</td>\n",
       "    </tr>\n",
       "    <tr>\n",
       "      <th>1</th>\n",
       "      <td>2</td>\n",
       "      <td>91</td>\n",
       "      <td>217</td>\n",
       "      <td>7.0</td>\n",
       "      <td>3</td>\n",
       "      <td>2024-12-05 17:55:17.304365</td>\n",
       "      <td>2024-12-05</td>\n",
       "    </tr>\n",
       "    <tr>\n",
       "      <th>0</th>\n",
       "      <td>1</td>\n",
       "      <td>73</td>\n",
       "      <td>286</td>\n",
       "      <td>8.0</td>\n",
       "      <td>3</td>\n",
       "      <td>2024-12-06 17:55:17.304365</td>\n",
       "      <td>2024-12-06</td>\n",
       "    </tr>\n",
       "    <tr>\n",
       "      <th>22</th>\n",
       "      <td>23</td>\n",
       "      <td>87</td>\n",
       "      <td>1290</td>\n",
       "      <td>1.0</td>\n",
       "      <td>3</td>\n",
       "      <td>2024-12-12 21:09:03.540487</td>\n",
       "      <td>2024-12-12</td>\n",
       "    </tr>\n",
       "    <tr>\n",
       "      <th>47</th>\n",
       "      <td>48</td>\n",
       "      <td>100</td>\n",
       "      <td>1960</td>\n",
       "      <td>3.3</td>\n",
       "      <td>3</td>\n",
       "      <td>2024-12-13 15:09:10.296907</td>\n",
       "      <td>2024-12-13</td>\n",
       "    </tr>\n",
       "    <tr>\n",
       "      <th>48</th>\n",
       "      <td>49</td>\n",
       "      <td>9</td>\n",
       "      <td>20</td>\n",
       "      <td>1.0</td>\n",
       "      <td>3</td>\n",
       "      <td>2024-12-21 13:45:46.888612</td>\n",
       "      <td>2024-12-21</td>\n",
       "    </tr>\n",
       "  </tbody>\n",
       "</table>\n",
       "</div>"
      ],
      "text/plain": [
       "    id  performance_score  activity_score  grade  score_owner_id  \\\n",
       "6    7                 78             479    8.0               3   \n",
       "5    6                 94             374    8.0               3   \n",
       "4    5                100             163    9.0               3   \n",
       "3    4                 75             279    4.0               3   \n",
       "2    3                 97             202    4.0               3   \n",
       "1    2                 91             217    7.0               3   \n",
       "0    1                 73             286    8.0               3   \n",
       "22  23                 87            1290    1.0               3   \n",
       "47  48                100            1960    3.3               3   \n",
       "48  49                  9              20    1.0               3   \n",
       "\n",
       "                  recorded_at        date  \n",
       "6  2024-11-30 17:55:17.304365  2024-11-30  \n",
       "5  2024-12-01 17:55:17.304365  2024-12-01  \n",
       "4  2024-12-02 17:55:17.304365  2024-12-02  \n",
       "3  2024-12-03 17:55:17.304365  2024-12-03  \n",
       "2  2024-12-04 17:55:17.304365  2024-12-04  \n",
       "1  2024-12-05 17:55:17.304365  2024-12-05  \n",
       "0  2024-12-06 17:55:17.304365  2024-12-06  \n",
       "22 2024-12-12 21:09:03.540487  2024-12-12  \n",
       "47 2024-12-13 15:09:10.296907  2024-12-13  \n",
       "48 2024-12-21 13:45:46.888612  2024-12-21  "
      ]
     },
     "execution_count": 86,
     "metadata": {},
     "output_type": "execute_result"
    }
   ],
   "source": [
    "score_and_caroly(3)"
   ]
  },
  {
   "cell_type": "code",
   "execution_count": null,
   "metadata": {},
   "outputs": [
    {
     "name": "stderr",
     "output_type": "stream",
     "text": [
      "/var/folders/80/hv8gpdgn6tndvgyr9pwntpz40000gn/T/ipykernel_77386/1612406857.py:2: SettingWithCopyWarning: \n",
      "A value is trying to be set on a copy of a slice from a DataFrame.\n",
      "Try using .loc[row_indexer,col_indexer] = value instead\n",
      "\n",
      "See the caveats in the documentation: https://pandas.pydata.org/pandas-docs/stable/user_guide/indexing.html#returning-a-view-versus-a-copy\n",
      "  score_df['recorded_at'] = pd.to_datetime(score_df['recorded_at'])\n",
      "/var/folders/80/hv8gpdgn6tndvgyr9pwntpz40000gn/T/ipykernel_77386/1612406857.py:3: SettingWithCopyWarning: \n",
      "A value is trying to be set on a copy of a slice from a DataFrame.\n",
      "Try using .loc[row_indexer,col_indexer] = value instead\n",
      "\n",
      "See the caveats in the documentation: https://pandas.pydata.org/pandas-docs/stable/user_guide/indexing.html#returning-a-view-versus-a-copy\n",
      "  score_df['date'] = score_df['recorded_at'].dt.date\n"
     ]
    },
    {
     "data": {
      "text/html": [
       "<div>\n",
       "<style scoped>\n",
       "    .dataframe tbody tr th:only-of-type {\n",
       "        vertical-align: middle;\n",
       "    }\n",
       "\n",
       "    .dataframe tbody tr th {\n",
       "        vertical-align: top;\n",
       "    }\n",
       "\n",
       "    .dataframe thead th {\n",
       "        text-align: right;\n",
       "    }\n",
       "</style>\n",
       "<table border=\"1\" class=\"dataframe\">\n",
       "  <thead>\n",
       "    <tr style=\"text-align: right;\">\n",
       "      <th></th>\n",
       "      <th>id</th>\n",
       "      <th>performance_score</th>\n",
       "      <th>activity_score</th>\n",
       "      <th>grade</th>\n",
       "      <th>score_owner_id</th>\n",
       "      <th>recorded_at</th>\n",
       "      <th>date</th>\n",
       "    </tr>\n",
       "  </thead>\n",
       "  <tbody>\n",
       "    <tr>\n",
       "      <th>6</th>\n",
       "      <td>7</td>\n",
       "      <td>78</td>\n",
       "      <td>479</td>\n",
       "      <td>8.0</td>\n",
       "      <td>3</td>\n",
       "      <td>2024-11-30 17:55:17.304365</td>\n",
       "      <td>2024-11-30</td>\n",
       "    </tr>\n",
       "    <tr>\n",
       "      <th>5</th>\n",
       "      <td>6</td>\n",
       "      <td>94</td>\n",
       "      <td>374</td>\n",
       "      <td>8.0</td>\n",
       "      <td>3</td>\n",
       "      <td>2024-12-01 17:55:17.304365</td>\n",
       "      <td>2024-12-01</td>\n",
       "    </tr>\n",
       "    <tr>\n",
       "      <th>4</th>\n",
       "      <td>5</td>\n",
       "      <td>100</td>\n",
       "      <td>163</td>\n",
       "      <td>9.0</td>\n",
       "      <td>3</td>\n",
       "      <td>2024-12-02 17:55:17.304365</td>\n",
       "      <td>2024-12-02</td>\n",
       "    </tr>\n",
       "    <tr>\n",
       "      <th>3</th>\n",
       "      <td>4</td>\n",
       "      <td>75</td>\n",
       "      <td>279</td>\n",
       "      <td>4.0</td>\n",
       "      <td>3</td>\n",
       "      <td>2024-12-03 17:55:17.304365</td>\n",
       "      <td>2024-12-03</td>\n",
       "    </tr>\n",
       "    <tr>\n",
       "      <th>2</th>\n",
       "      <td>3</td>\n",
       "      <td>97</td>\n",
       "      <td>202</td>\n",
       "      <td>4.0</td>\n",
       "      <td>3</td>\n",
       "      <td>2024-12-04 17:55:17.304365</td>\n",
       "      <td>2024-12-04</td>\n",
       "    </tr>\n",
       "    <tr>\n",
       "      <th>1</th>\n",
       "      <td>2</td>\n",
       "      <td>91</td>\n",
       "      <td>217</td>\n",
       "      <td>7.0</td>\n",
       "      <td>3</td>\n",
       "      <td>2024-12-05 17:55:17.304365</td>\n",
       "      <td>2024-12-05</td>\n",
       "    </tr>\n",
       "    <tr>\n",
       "      <th>0</th>\n",
       "      <td>1</td>\n",
       "      <td>73</td>\n",
       "      <td>286</td>\n",
       "      <td>8.0</td>\n",
       "      <td>3</td>\n",
       "      <td>2024-12-06 17:55:17.304365</td>\n",
       "      <td>2024-12-06</td>\n",
       "    </tr>\n",
       "    <tr>\n",
       "      <th>22</th>\n",
       "      <td>23</td>\n",
       "      <td>87</td>\n",
       "      <td>1290</td>\n",
       "      <td>1.0</td>\n",
       "      <td>3</td>\n",
       "      <td>2024-12-12 21:09:03.540487</td>\n",
       "      <td>2024-12-12</td>\n",
       "    </tr>\n",
       "    <tr>\n",
       "      <th>47</th>\n",
       "      <td>48</td>\n",
       "      <td>100</td>\n",
       "      <td>1960</td>\n",
       "      <td>3.3</td>\n",
       "      <td>3</td>\n",
       "      <td>2024-12-13 15:09:10.296907</td>\n",
       "      <td>2024-12-13</td>\n",
       "    </tr>\n",
       "    <tr>\n",
       "      <th>48</th>\n",
       "      <td>49</td>\n",
       "      <td>9</td>\n",
       "      <td>20</td>\n",
       "      <td>1.0</td>\n",
       "      <td>3</td>\n",
       "      <td>2024-12-21 13:45:46.888612</td>\n",
       "      <td>2024-12-21</td>\n",
       "    </tr>\n",
       "  </tbody>\n",
       "</table>\n",
       "</div>"
      ],
      "text/plain": [
       "    id  performance_score  activity_score  grade  score_owner_id  \\\n",
       "6    7                 78             479    8.0               3   \n",
       "5    6                 94             374    8.0               3   \n",
       "4    5                100             163    9.0               3   \n",
       "3    4                 75             279    4.0               3   \n",
       "2    3                 97             202    4.0               3   \n",
       "1    2                 91             217    7.0               3   \n",
       "0    1                 73             286    8.0               3   \n",
       "22  23                 87            1290    1.0               3   \n",
       "47  48                100            1960    3.3               3   \n",
       "48  49                  9              20    1.0               3   \n",
       "\n",
       "                  recorded_at        date  \n",
       "6  2024-11-30 17:55:17.304365  2024-11-30  \n",
       "5  2024-12-01 17:55:17.304365  2024-12-01  \n",
       "4  2024-12-02 17:55:17.304365  2024-12-02  \n",
       "3  2024-12-03 17:55:17.304365  2024-12-03  \n",
       "2  2024-12-04 17:55:17.304365  2024-12-04  \n",
       "1  2024-12-05 17:55:17.304365  2024-12-05  \n",
       "0  2024-12-06 17:55:17.304365  2024-12-06  \n",
       "22 2024-12-12 21:09:03.540487  2024-12-12  \n",
       "47 2024-12-13 15:09:10.296907  2024-12-13  \n",
       "48 2024-12-21 13:45:46.888612  2024-12-21  "
      ]
     },
     "execution_count": 82,
     "metadata": {},
     "output_type": "execute_result"
    }
   ],
   "source": [
    "score_df = df.score_df[df.score_df['score_owner_id'] == 3]\n",
    "score_df['recorded_at'] = pd.to_datetime(score_df['recorded_at'])\n",
    "score_df['date'] = score_df['recorded_at'].dt.date\n",
    "\n",
    "# Get the latest record for each day\n",
    "latest_per_day = score_df.loc[score_df.groupby('date')['recorded_at'].idxmax()]\n",
    "latest_per_day"
   ]
  },
  {
   "cell_type": "code",
   "execution_count": 114,
   "metadata": {},
   "outputs": [
    {
     "name": "stderr",
     "output_type": "stream",
     "text": [
      "/var/folders/80/hv8gpdgn6tndvgyr9pwntpz40000gn/T/ipykernel_77386/1356720061.py:2: SettingWithCopyWarning: \n",
      "A value is trying to be set on a copy of a slice from a DataFrame.\n",
      "Try using .loc[row_indexer,col_indexer] = value instead\n",
      "\n",
      "See the caveats in the documentation: https://pandas.pydata.org/pandas-docs/stable/user_guide/indexing.html#returning-a-view-versus-a-copy\n",
      "  score_df['date_completed'] = pd.to_datetime(score_df['date_completed'])\n",
      "/var/folders/80/hv8gpdgn6tndvgyr9pwntpz40000gn/T/ipykernel_77386/1356720061.py:3: SettingWithCopyWarning: \n",
      "A value is trying to be set on a copy of a slice from a DataFrame.\n",
      "Try using .loc[row_indexer,col_indexer] = value instead\n",
      "\n",
      "See the caveats in the documentation: https://pandas.pydata.org/pandas-docs/stable/user_guide/indexing.html#returning-a-view-versus-a-copy\n",
      "  score_df['date'] = score_df['date_completed'].dt.date\n"
     ]
    },
    {
     "data": {
      "text/plain": [
       "np.float64(1.0)"
      ]
     },
     "execution_count": 114,
     "metadata": {},
     "output_type": "execute_result"
    }
   ],
   "source": [
    "score_df = df.climbs_df[df.climbs_df['upload_author_id'] == 3]\n",
    "score_df['date_completed'] = pd.to_datetime(score_df['date_completed'])\n",
    "score_df['date'] = score_df['date_completed'].dt.date\n",
    "\n",
    "one_week_ago = datetime.now().date() - timedelta(days=7)\n",
    "last_week_data = score_df[score_df['date'] >= one_week_ago]\n",
    "mean_grade = round(last_week_data['grade'].mean(), 1)\n",
    "mean_grade\n"
   ]
  },
  {
   "cell_type": "code",
   "execution_count": 115,
   "metadata": {},
   "outputs": [
    {
     "name": "stderr",
     "output_type": "stream",
     "text": [
      "/var/folders/80/hv8gpdgn6tndvgyr9pwntpz40000gn/T/ipykernel_77386/1163005566.py:2: SettingWithCopyWarning: \n",
      "A value is trying to be set on a copy of a slice from a DataFrame.\n",
      "Try using .loc[row_indexer,col_indexer] = value instead\n",
      "\n",
      "See the caveats in the documentation: https://pandas.pydata.org/pandas-docs/stable/user_guide/indexing.html#returning-a-view-versus-a-copy\n",
      "  user_climbs['date_logged'] = pd.to_datetime(user_climbs['date_logged']).dt.date\n"
     ]
    },
    {
     "data": {
      "text/html": [
       "<div>\n",
       "<style scoped>\n",
       "    .dataframe tbody tr th:only-of-type {\n",
       "        vertical-align: middle;\n",
       "    }\n",
       "\n",
       "    .dataframe tbody tr th {\n",
       "        vertical-align: top;\n",
       "    }\n",
       "\n",
       "    .dataframe thead th {\n",
       "        text-align: right;\n",
       "    }\n",
       "</style>\n",
       "<table border=\"1\" class=\"dataframe\">\n",
       "  <thead>\n",
       "    <tr style=\"text-align: right;\">\n",
       "      <th></th>\n",
       "      <th>id</th>\n",
       "      <th>photo</th>\n",
       "      <th>completed</th>\n",
       "      <th>date_completed</th>\n",
       "      <th>grade</th>\n",
       "      <th>style</th>\n",
       "      <th>evaluation</th>\n",
       "      <th>when_stripped</th>\n",
       "      <th>is_stripped</th>\n",
       "      <th>date_logged</th>\n",
       "      <th>attempt</th>\n",
       "      <th>total_attempts</th>\n",
       "      <th>upload_author_id</th>\n",
       "      <th>feel_strong</th>\n",
       "    </tr>\n",
       "  </thead>\n",
       "  <tbody>\n",
       "    <tr>\n",
       "      <th>56</th>\n",
       "      <td>70</td>\n",
       "      <td>/Users/yuta/Desktop/climb_proj/uploads/Screens...</td>\n",
       "      <td>1</td>\n",
       "      <td>2024-12-22</td>\n",
       "      <td>1</td>\n",
       "      <td>Finger</td>\n",
       "      <td>1.0</td>\n",
       "      <td>None</td>\n",
       "      <td>0</td>\n",
       "      <td>2024-12-22</td>\n",
       "      <td>1</td>\n",
       "      <td>1</td>\n",
       "      <td>4</td>\n",
       "      <td>NaN</td>\n",
       "    </tr>\n",
       "  </tbody>\n",
       "</table>\n",
       "</div>"
      ],
      "text/plain": [
       "    id                                              photo  completed  \\\n",
       "56  70  /Users/yuta/Desktop/climb_proj/uploads/Screens...          1   \n",
       "\n",
       "   date_completed  grade   style  evaluation when_stripped  is_stripped  \\\n",
       "56     2024-12-22      1  Finger         1.0          None            0   \n",
       "\n",
       "   date_logged  attempt  total_attempts  upload_author_id  feel_strong  \n",
       "56  2024-12-22        1               1                 4          NaN  "
      ]
     },
     "execution_count": 115,
     "metadata": {},
     "output_type": "execute_result"
    }
   ],
   "source": [
    "user_climbs = df.climbs_df[(df.climbs_df['upload_author_id'] == 4)&(df.climbs_df['attempt'] != 0)]\n",
    "user_climbs['date_logged'] = pd.to_datetime(user_climbs['date_logged']).dt.date\n",
    "today_climbs = user_climbs[user_climbs['date_logged'] == datetime.now().date()]\n",
    "today_climbs = today_climbs.groupby('style').count()\n",
    "by_style = today_climbs[['id']]\n",
    "json_output = [{style: int(row['id'])} for style, row in by_style.iterrows()]\n",
    "json_output\n",
    "user_climbs"
   ]
  },
  {
   "cell_type": "code",
   "execution_count": null,
   "metadata": {},
   "outputs": [
    {
     "data": {
      "text/plain": [
       "np.int64(240)"
      ]
     },
     "execution_count": 85,
     "metadata": {},
     "output_type": "execute_result"
    }
   ],
   "source": [
    "p_score = df.score_df[df.score_df['score_owner_id'] == 4].activity_score.iloc[-1]\n",
    "p_score\n"
   ]
  },
  {
   "cell_type": "code",
   "execution_count": null,
   "metadata": {},
   "outputs": [
    {
     "name": "stdout",
     "output_type": "stream",
     "text": [
      "<class 'pandas.core.frame.DataFrame'>\n",
      "Index: 1 entries, 54 to 54\n",
      "Data columns (total 7 columns):\n",
      " #   Column             Non-Null Count  Dtype         \n",
      "---  ------             --------------  -----         \n",
      " 0   id                 1 non-null      int64         \n",
      " 1   performance_score  1 non-null      int64         \n",
      " 2   activity_score     1 non-null      int64         \n",
      " 3   grade              1 non-null      float64       \n",
      " 4   score_owner_id     1 non-null      int64         \n",
      " 5   recorded_at        1 non-null      datetime64[ns]\n",
      " 6   date               1 non-null      object        \n",
      "dtypes: datetime64[ns](1), float64(1), int64(4), object(1)\n",
      "memory usage: 64.0+ bytes\n"
     ]
    },
    {
     "name": "stderr",
     "output_type": "stream",
     "text": [
      "/var/folders/80/hv8gpdgn6tndvgyr9pwntpz40000gn/T/ipykernel_77386/3245843569.py:5: SettingWithCopyWarning: \n",
      "A value is trying to be set on a copy of a slice from a DataFrame.\n",
      "Try using .loc[row_indexer,col_indexer] = value instead\n",
      "\n",
      "See the caveats in the documentation: https://pandas.pydata.org/pandas-docs/stable/user_guide/indexing.html#returning-a-view-versus-a-copy\n",
      "  score_df['recorded_at'] = pd.to_datetime(score_df.recorded_at)\n",
      "/var/folders/80/hv8gpdgn6tndvgyr9pwntpz40000gn/T/ipykernel_77386/3245843569.py:6: SettingWithCopyWarning: \n",
      "A value is trying to be set on a copy of a slice from a DataFrame.\n",
      "Try using .loc[row_indexer,col_indexer] = value instead\n",
      "\n",
      "See the caveats in the documentation: https://pandas.pydata.org/pandas-docs/stable/user_guide/indexing.html#returning-a-view-versus-a-copy\n",
      "  score_df['date'] = score_df['recorded_at'].dt.date\n"
     ]
    }
   ],
   "source": [
    "a = score_and_caroly(4)\n",
    "a.info()"
   ]
  },
  {
   "cell_type": "code",
   "execution_count": null,
   "metadata": {},
   "outputs": [
    {
     "name": "stdout",
     "output_type": "stream",
     "text": [
      "<class 'pandas.core.frame.DataFrame'>\n",
      "Index: 10 entries, 6 to 48\n",
      "Data columns (total 7 columns):\n",
      " #   Column             Non-Null Count  Dtype         \n",
      "---  ------             --------------  -----         \n",
      " 0   id                 10 non-null     int64         \n",
      " 1   performance_score  10 non-null     int64         \n",
      " 2   activity_score     10 non-null     int64         \n",
      " 3   grade              10 non-null     float64       \n",
      " 4   score_owner_id     10 non-null     int64         \n",
      " 5   recorded_at        10 non-null     datetime64[ns]\n",
      " 6   date               10 non-null     object        \n",
      "dtypes: datetime64[ns](1), float64(1), int64(4), object(1)\n",
      "memory usage: 640.0+ bytes\n"
     ]
    },
    {
     "name": "stderr",
     "output_type": "stream",
     "text": [
      "/var/folders/80/hv8gpdgn6tndvgyr9pwntpz40000gn/T/ipykernel_77386/3245843569.py:5: SettingWithCopyWarning: \n",
      "A value is trying to be set on a copy of a slice from a DataFrame.\n",
      "Try using .loc[row_indexer,col_indexer] = value instead\n",
      "\n",
      "See the caveats in the documentation: https://pandas.pydata.org/pandas-docs/stable/user_guide/indexing.html#returning-a-view-versus-a-copy\n",
      "  score_df['recorded_at'] = pd.to_datetime(score_df.recorded_at)\n",
      "/var/folders/80/hv8gpdgn6tndvgyr9pwntpz40000gn/T/ipykernel_77386/3245843569.py:6: SettingWithCopyWarning: \n",
      "A value is trying to be set on a copy of a slice from a DataFrame.\n",
      "Try using .loc[row_indexer,col_indexer] = value instead\n",
      "\n",
      "See the caveats in the documentation: https://pandas.pydata.org/pandas-docs/stable/user_guide/indexing.html#returning-a-view-versus-a-copy\n",
      "  score_df['date'] = score_df['recorded_at'].dt.date\n"
     ]
    }
   ],
   "source": [
    "i = score_and_caroly(3)\n",
    "i.info()"
   ]
  },
  {
   "cell_type": "code",
   "execution_count": null,
   "metadata": {},
   "outputs": [
    {
     "name": "stderr",
     "output_type": "stream",
     "text": [
      "/var/folders/80/hv8gpdgn6tndvgyr9pwntpz40000gn/T/ipykernel_77386/90244391.py:2: SettingWithCopyWarning:\n",
      "\n",
      "\n",
      "A value is trying to be set on a copy of a slice from a DataFrame.\n",
      "Try using .loc[row_indexer,col_indexer] = value instead\n",
      "\n",
      "See the caveats in the documentation: https://pandas.pydata.org/pandas-docs/stable/user_guide/indexing.html#returning-a-view-versus-a-copy\n",
      "\n"
     ]
    },
    {
     "data": {
      "text/plain": [
       "[{'id': 14, 'completed': 1, 'grade': 7, 'attempt': 1},\n",
       " {'id': 24, 'completed': 1, 'grade': 7, 'attempt': 10},\n",
       " {'id': 72, 'completed': 0, 'grade': 6, 'attempt': 0}]"
      ]
     },
     "execution_count": 145,
     "metadata": {},
     "output_type": "execute_result"
    }
   ],
   "source": [
    "user_climbs = df.climbs_df[(df.climbs_df['upload_author_id'] == 6)]\n",
    "user_climbs['date_logged'] = pd.to_datetime(user_climbs['date_logged']).dt.date\n",
    "today_completed = user_climbs[user_climbs['date_logged'] == datetime.now().date()]\n",
    "filtered = today_completed[['id', 'completed', 'grade', 'attempt']]\n",
    "filtered.to_dict(ori)"
   ]
  },
  {
   "cell_type": "code",
   "execution_count": null,
   "metadata": {},
   "outputs": [
    {
     "name": "stderr",
     "output_type": "stream",
     "text": [
      "/var/folders/80/hv8gpdgn6tndvgyr9pwntpz40000gn/T/ipykernel_77386/941877715.py:2: SettingWithCopyWarning:\n",
      "\n",
      "\n",
      "A value is trying to be set on a copy of a slice from a DataFrame.\n",
      "Try using .loc[row_indexer,col_indexer] = value instead\n",
      "\n",
      "See the caveats in the documentation: https://pandas.pydata.org/pandas-docs/stable/user_guide/indexing.html#returning-a-view-versus-a-copy\n",
      "\n",
      "/var/folders/80/hv8gpdgn6tndvgyr9pwntpz40000gn/T/ipykernel_77386/941877715.py:7: SettingWithCopyWarning:\n",
      "\n",
      "\n",
      "A value is trying to be set on a copy of a slice from a DataFrame.\n",
      "Try using .loc[row_indexer,col_indexer] = value instead\n",
      "\n",
      "See the caveats in the documentation: https://pandas.pydata.org/pandas-docs/stable/user_guide/indexing.html#returning-a-view-versus-a-copy\n",
      "\n",
      "/var/folders/80/hv8gpdgn6tndvgyr9pwntpz40000gn/T/ipykernel_77386/941877715.py:8: SettingWithCopyWarning:\n",
      "\n",
      "\n",
      "A value is trying to be set on a copy of a slice from a DataFrame.\n",
      "Try using .loc[row_indexer,col_indexer] = value instead\n",
      "\n",
      "See the caveats in the documentation: https://pandas.pydata.org/pandas-docs/stable/user_guide/indexing.html#returning-a-view-versus-a-copy\n",
      "\n"
     ]
    },
    {
     "data": {
      "application/vnd.plotly.v1+json": {
       "config": {
        "plotlyServerURL": "https://plot.ly"
       },
       "data": [
        {
         "alignmentgroup": "True",
         "hovertemplate": "Grade=%{x}<br>Attempts=%{text}<br>Completed=%{marker.color}<extra></extra>",
         "legendgroup": "",
         "marker": {
          "color": [
           1,
           1,
           0
          ],
          "coloraxis": "coloraxis",
          "pattern": {
           "shape": ""
          }
         },
         "name": "",
         "offsetgroup": "",
         "orientation": "v",
         "showlegend": false,
         "text": [
          1,
          10,
          0
         ],
         "textposition": "auto",
         "type": "bar",
         "x": [
          7,
          7.1,
          6
         ],
         "xaxis": "x",
         "y": [
          1,
          10,
          0
         ],
         "yaxis": "y"
        }
       ],
       "layout": {
        "barmode": "group",
        "coloraxis": {
         "colorbar": {
          "title": {
           "text": "Completed"
          }
         },
         "colorscale": [
          [
           0,
           "#0d0887"
          ],
          [
           0.1111111111111111,
           "#46039f"
          ],
          [
           0.2222222222222222,
           "#7201a8"
          ],
          [
           0.3333333333333333,
           "#9c179e"
          ],
          [
           0.4444444444444444,
           "#bd3786"
          ],
          [
           0.5555555555555556,
           "#d8576b"
          ],
          [
           0.6666666666666666,
           "#ed7953"
          ],
          [
           0.7777777777777778,
           "#fb9f3a"
          ],
          [
           0.8888888888888888,
           "#fdca26"
          ],
          [
           1,
           "#f0f921"
          ]
         ]
        },
        "legend": {
         "tracegroupgap": 0
        },
        "template": {
         "data": {
          "bar": [
           {
            "error_x": {
             "color": "#2a3f5f"
            },
            "error_y": {
             "color": "#2a3f5f"
            },
            "marker": {
             "line": {
              "color": "#E5ECF6",
              "width": 0.5
             },
             "pattern": {
              "fillmode": "overlay",
              "size": 10,
              "solidity": 0.2
             }
            },
            "type": "bar"
           }
          ],
          "barpolar": [
           {
            "marker": {
             "line": {
              "color": "#E5ECF6",
              "width": 0.5
             },
             "pattern": {
              "fillmode": "overlay",
              "size": 10,
              "solidity": 0.2
             }
            },
            "type": "barpolar"
           }
          ],
          "carpet": [
           {
            "aaxis": {
             "endlinecolor": "#2a3f5f",
             "gridcolor": "white",
             "linecolor": "white",
             "minorgridcolor": "white",
             "startlinecolor": "#2a3f5f"
            },
            "baxis": {
             "endlinecolor": "#2a3f5f",
             "gridcolor": "white",
             "linecolor": "white",
             "minorgridcolor": "white",
             "startlinecolor": "#2a3f5f"
            },
            "type": "carpet"
           }
          ],
          "choropleth": [
           {
            "colorbar": {
             "outlinewidth": 0,
             "ticks": ""
            },
            "type": "choropleth"
           }
          ],
          "contour": [
           {
            "colorbar": {
             "outlinewidth": 0,
             "ticks": ""
            },
            "colorscale": [
             [
              0,
              "#0d0887"
             ],
             [
              0.1111111111111111,
              "#46039f"
             ],
             [
              0.2222222222222222,
              "#7201a8"
             ],
             [
              0.3333333333333333,
              "#9c179e"
             ],
             [
              0.4444444444444444,
              "#bd3786"
             ],
             [
              0.5555555555555556,
              "#d8576b"
             ],
             [
              0.6666666666666666,
              "#ed7953"
             ],
             [
              0.7777777777777778,
              "#fb9f3a"
             ],
             [
              0.8888888888888888,
              "#fdca26"
             ],
             [
              1,
              "#f0f921"
             ]
            ],
            "type": "contour"
           }
          ],
          "contourcarpet": [
           {
            "colorbar": {
             "outlinewidth": 0,
             "ticks": ""
            },
            "type": "contourcarpet"
           }
          ],
          "heatmap": [
           {
            "colorbar": {
             "outlinewidth": 0,
             "ticks": ""
            },
            "colorscale": [
             [
              0,
              "#0d0887"
             ],
             [
              0.1111111111111111,
              "#46039f"
             ],
             [
              0.2222222222222222,
              "#7201a8"
             ],
             [
              0.3333333333333333,
              "#9c179e"
             ],
             [
              0.4444444444444444,
              "#bd3786"
             ],
             [
              0.5555555555555556,
              "#d8576b"
             ],
             [
              0.6666666666666666,
              "#ed7953"
             ],
             [
              0.7777777777777778,
              "#fb9f3a"
             ],
             [
              0.8888888888888888,
              "#fdca26"
             ],
             [
              1,
              "#f0f921"
             ]
            ],
            "type": "heatmap"
           }
          ],
          "heatmapgl": [
           {
            "colorbar": {
             "outlinewidth": 0,
             "ticks": ""
            },
            "colorscale": [
             [
              0,
              "#0d0887"
             ],
             [
              0.1111111111111111,
              "#46039f"
             ],
             [
              0.2222222222222222,
              "#7201a8"
             ],
             [
              0.3333333333333333,
              "#9c179e"
             ],
             [
              0.4444444444444444,
              "#bd3786"
             ],
             [
              0.5555555555555556,
              "#d8576b"
             ],
             [
              0.6666666666666666,
              "#ed7953"
             ],
             [
              0.7777777777777778,
              "#fb9f3a"
             ],
             [
              0.8888888888888888,
              "#fdca26"
             ],
             [
              1,
              "#f0f921"
             ]
            ],
            "type": "heatmapgl"
           }
          ],
          "histogram": [
           {
            "marker": {
             "pattern": {
              "fillmode": "overlay",
              "size": 10,
              "solidity": 0.2
             }
            },
            "type": "histogram"
           }
          ],
          "histogram2d": [
           {
            "colorbar": {
             "outlinewidth": 0,
             "ticks": ""
            },
            "colorscale": [
             [
              0,
              "#0d0887"
             ],
             [
              0.1111111111111111,
              "#46039f"
             ],
             [
              0.2222222222222222,
              "#7201a8"
             ],
             [
              0.3333333333333333,
              "#9c179e"
             ],
             [
              0.4444444444444444,
              "#bd3786"
             ],
             [
              0.5555555555555556,
              "#d8576b"
             ],
             [
              0.6666666666666666,
              "#ed7953"
             ],
             [
              0.7777777777777778,
              "#fb9f3a"
             ],
             [
              0.8888888888888888,
              "#fdca26"
             ],
             [
              1,
              "#f0f921"
             ]
            ],
            "type": "histogram2d"
           }
          ],
          "histogram2dcontour": [
           {
            "colorbar": {
             "outlinewidth": 0,
             "ticks": ""
            },
            "colorscale": [
             [
              0,
              "#0d0887"
             ],
             [
              0.1111111111111111,
              "#46039f"
             ],
             [
              0.2222222222222222,
              "#7201a8"
             ],
             [
              0.3333333333333333,
              "#9c179e"
             ],
             [
              0.4444444444444444,
              "#bd3786"
             ],
             [
              0.5555555555555556,
              "#d8576b"
             ],
             [
              0.6666666666666666,
              "#ed7953"
             ],
             [
              0.7777777777777778,
              "#fb9f3a"
             ],
             [
              0.8888888888888888,
              "#fdca26"
             ],
             [
              1,
              "#f0f921"
             ]
            ],
            "type": "histogram2dcontour"
           }
          ],
          "mesh3d": [
           {
            "colorbar": {
             "outlinewidth": 0,
             "ticks": ""
            },
            "type": "mesh3d"
           }
          ],
          "parcoords": [
           {
            "line": {
             "colorbar": {
              "outlinewidth": 0,
              "ticks": ""
             }
            },
            "type": "parcoords"
           }
          ],
          "pie": [
           {
            "automargin": true,
            "type": "pie"
           }
          ],
          "scatter": [
           {
            "fillpattern": {
             "fillmode": "overlay",
             "size": 10,
             "solidity": 0.2
            },
            "type": "scatter"
           }
          ],
          "scatter3d": [
           {
            "line": {
             "colorbar": {
              "outlinewidth": 0,
              "ticks": ""
             }
            },
            "marker": {
             "colorbar": {
              "outlinewidth": 0,
              "ticks": ""
             }
            },
            "type": "scatter3d"
           }
          ],
          "scattercarpet": [
           {
            "marker": {
             "colorbar": {
              "outlinewidth": 0,
              "ticks": ""
             }
            },
            "type": "scattercarpet"
           }
          ],
          "scattergeo": [
           {
            "marker": {
             "colorbar": {
              "outlinewidth": 0,
              "ticks": ""
             }
            },
            "type": "scattergeo"
           }
          ],
          "scattergl": [
           {
            "marker": {
             "colorbar": {
              "outlinewidth": 0,
              "ticks": ""
             }
            },
            "type": "scattergl"
           }
          ],
          "scattermapbox": [
           {
            "marker": {
             "colorbar": {
              "outlinewidth": 0,
              "ticks": ""
             }
            },
            "type": "scattermapbox"
           }
          ],
          "scatterpolar": [
           {
            "marker": {
             "colorbar": {
              "outlinewidth": 0,
              "ticks": ""
             }
            },
            "type": "scatterpolar"
           }
          ],
          "scatterpolargl": [
           {
            "marker": {
             "colorbar": {
              "outlinewidth": 0,
              "ticks": ""
             }
            },
            "type": "scatterpolargl"
           }
          ],
          "scatterternary": [
           {
            "marker": {
             "colorbar": {
              "outlinewidth": 0,
              "ticks": ""
             }
            },
            "type": "scatterternary"
           }
          ],
          "surface": [
           {
            "colorbar": {
             "outlinewidth": 0,
             "ticks": ""
            },
            "colorscale": [
             [
              0,
              "#0d0887"
             ],
             [
              0.1111111111111111,
              "#46039f"
             ],
             [
              0.2222222222222222,
              "#7201a8"
             ],
             [
              0.3333333333333333,
              "#9c179e"
             ],
             [
              0.4444444444444444,
              "#bd3786"
             ],
             [
              0.5555555555555556,
              "#d8576b"
             ],
             [
              0.6666666666666666,
              "#ed7953"
             ],
             [
              0.7777777777777778,
              "#fb9f3a"
             ],
             [
              0.8888888888888888,
              "#fdca26"
             ],
             [
              1,
              "#f0f921"
             ]
            ],
            "type": "surface"
           }
          ],
          "table": [
           {
            "cells": {
             "fill": {
              "color": "#EBF0F8"
             },
             "line": {
              "color": "white"
             }
            },
            "header": {
             "fill": {
              "color": "#C8D4E3"
             },
             "line": {
              "color": "white"
             }
            },
            "type": "table"
           }
          ]
         },
         "layout": {
          "annotationdefaults": {
           "arrowcolor": "#2a3f5f",
           "arrowhead": 0,
           "arrowwidth": 1
          },
          "autotypenumbers": "strict",
          "coloraxis": {
           "colorbar": {
            "outlinewidth": 0,
            "ticks": ""
           }
          },
          "colorscale": {
           "diverging": [
            [
             0,
             "#8e0152"
            ],
            [
             0.1,
             "#c51b7d"
            ],
            [
             0.2,
             "#de77ae"
            ],
            [
             0.3,
             "#f1b6da"
            ],
            [
             0.4,
             "#fde0ef"
            ],
            [
             0.5,
             "#f7f7f7"
            ],
            [
             0.6,
             "#e6f5d0"
            ],
            [
             0.7,
             "#b8e186"
            ],
            [
             0.8,
             "#7fbc41"
            ],
            [
             0.9,
             "#4d9221"
            ],
            [
             1,
             "#276419"
            ]
           ],
           "sequential": [
            [
             0,
             "#0d0887"
            ],
            [
             0.1111111111111111,
             "#46039f"
            ],
            [
             0.2222222222222222,
             "#7201a8"
            ],
            [
             0.3333333333333333,
             "#9c179e"
            ],
            [
             0.4444444444444444,
             "#bd3786"
            ],
            [
             0.5555555555555556,
             "#d8576b"
            ],
            [
             0.6666666666666666,
             "#ed7953"
            ],
            [
             0.7777777777777778,
             "#fb9f3a"
            ],
            [
             0.8888888888888888,
             "#fdca26"
            ],
            [
             1,
             "#f0f921"
            ]
           ],
           "sequentialminus": [
            [
             0,
             "#0d0887"
            ],
            [
             0.1111111111111111,
             "#46039f"
            ],
            [
             0.2222222222222222,
             "#7201a8"
            ],
            [
             0.3333333333333333,
             "#9c179e"
            ],
            [
             0.4444444444444444,
             "#bd3786"
            ],
            [
             0.5555555555555556,
             "#d8576b"
            ],
            [
             0.6666666666666666,
             "#ed7953"
            ],
            [
             0.7777777777777778,
             "#fb9f3a"
            ],
            [
             0.8888888888888888,
             "#fdca26"
            ],
            [
             1,
             "#f0f921"
            ]
           ]
          },
          "colorway": [
           "#636efa",
           "#EF553B",
           "#00cc96",
           "#ab63fa",
           "#FFA15A",
           "#19d3f3",
           "#FF6692",
           "#B6E880",
           "#FF97FF",
           "#FECB52"
          ],
          "font": {
           "color": "#2a3f5f"
          },
          "geo": {
           "bgcolor": "white",
           "lakecolor": "white",
           "landcolor": "#E5ECF6",
           "showlakes": true,
           "showland": true,
           "subunitcolor": "white"
          },
          "hoverlabel": {
           "align": "left"
          },
          "hovermode": "closest",
          "mapbox": {
           "style": "light"
          },
          "paper_bgcolor": "white",
          "plot_bgcolor": "#E5ECF6",
          "polar": {
           "angularaxis": {
            "gridcolor": "white",
            "linecolor": "white",
            "ticks": ""
           },
           "bgcolor": "#E5ECF6",
           "radialaxis": {
            "gridcolor": "white",
            "linecolor": "white",
            "ticks": ""
           }
          },
          "scene": {
           "xaxis": {
            "backgroundcolor": "#E5ECF6",
            "gridcolor": "white",
            "gridwidth": 2,
            "linecolor": "white",
            "showbackground": true,
            "ticks": "",
            "zerolinecolor": "white"
           },
           "yaxis": {
            "backgroundcolor": "#E5ECF6",
            "gridcolor": "white",
            "gridwidth": 2,
            "linecolor": "white",
            "showbackground": true,
            "ticks": "",
            "zerolinecolor": "white"
           },
           "zaxis": {
            "backgroundcolor": "#E5ECF6",
            "gridcolor": "white",
            "gridwidth": 2,
            "linecolor": "white",
            "showbackground": true,
            "ticks": "",
            "zerolinecolor": "white"
           }
          },
          "shapedefaults": {
           "line": {
            "color": "#2a3f5f"
           }
          },
          "ternary": {
           "aaxis": {
            "gridcolor": "white",
            "linecolor": "white",
            "ticks": ""
           },
           "baxis": {
            "gridcolor": "white",
            "linecolor": "white",
            "ticks": ""
           },
           "bgcolor": "#E5ECF6",
           "caxis": {
            "gridcolor": "white",
            "linecolor": "white",
            "ticks": ""
           }
          },
          "title": {
           "x": 0.05
          },
          "xaxis": {
           "automargin": true,
           "gridcolor": "white",
           "linecolor": "white",
           "ticks": "",
           "title": {
            "standoff": 15
           },
           "zerolinecolor": "white",
           "zerolinewidth": 2
          },
          "yaxis": {
           "automargin": true,
           "gridcolor": "white",
           "linecolor": "white",
           "ticks": "",
           "title": {
            "standoff": 15
           },
           "zerolinecolor": "white",
           "zerolinewidth": 2
          }
         }
        },
        "title": {
         "text": "Climbing Attempts by Grade and Completion Status"
        },
        "xaxis": {
         "anchor": "y",
         "domain": [
          0,
          1
         ],
         "tickmode": "array",
         "ticktext": [
          "V1",
          "V2",
          "V3",
          "V4",
          "V5",
          "V6",
          "V7",
          "V8",
          "V9",
          "V10",
          "V11",
          "V12",
          "V13",
          "V14"
         ],
         "tickvals": [
          1,
          2,
          3,
          4,
          5,
          6,
          7,
          8,
          9,
          10,
          11,
          12,
          13,
          14
         ],
         "title": {
          "text": "Grade"
         }
        },
        "yaxis": {
         "anchor": "x",
         "domain": [
          0,
          1
         ],
         "title": {
          "text": "Attempts"
         }
        }
       }
      }
     },
     "metadata": {},
     "output_type": "display_data"
    }
   ],
   "source": []
  },
  {
   "cell_type": "code",
   "execution_count": null,
   "metadata": {},
   "outputs": [],
   "source": []
  },
  {
   "cell_type": "code",
   "execution_count": null,
   "metadata": {},
   "outputs": [],
   "source": []
  },
  {
   "cell_type": "code",
   "execution_count": null,
   "metadata": {},
   "outputs": [],
   "source": []
  },
  {
   "cell_type": "code",
   "execution_count": null,
   "metadata": {},
   "outputs": [],
   "source": []
  },
  {
   "cell_type": "code",
   "execution_count": null,
   "metadata": {},
   "outputs": [],
   "source": []
  },
  {
   "cell_type": "code",
   "execution_count": null,
   "metadata": {},
   "outputs": [],
   "source": []
  },
  {
   "cell_type": "code",
   "execution_count": null,
   "metadata": {},
   "outputs": [],
   "source": []
  },
  {
   "cell_type": "code",
   "execution_count": null,
   "metadata": {},
   "outputs": [],
   "source": [
    "\n"
   ]
  },
  {
   "cell_type": "code",
   "execution_count": null,
   "metadata": {},
   "outputs": [],
   "source": []
  },
  {
   "cell_type": "code",
   "execution_count": null,
   "metadata": {},
   "outputs": [],
   "source": []
  },
  {
   "cell_type": "code",
   "execution_count": null,
   "metadata": {},
   "outputs": [],
   "source": []
  },
  {
   "cell_type": "code",
   "execution_count": null,
   "metadata": {},
   "outputs": [],
   "source": []
  },
  {
   "cell_type": "code",
   "execution_count": null,
   "metadata": {},
   "outputs": [],
   "source": []
  },
  {
   "cell_type": "code",
   "execution_count": null,
   "metadata": {},
   "outputs": [],
   "source": []
  },
  {
   "cell_type": "code",
   "execution_count": null,
   "metadata": {},
   "outputs": [],
   "source": []
  }
 ],
 "metadata": {
  "kernelspec": {
   "display_name": "Python 3",
   "language": "python",
   "name": "python3"
  },
  "language_info": {
   "codemirror_mode": {
    "name": "ipython",
    "version": 3
   },
   "file_extension": ".py",
   "mimetype": "text/x-python",
   "name": "python",
   "nbconvert_exporter": "python",
   "pygments_lexer": "ipython3",
   "version": "3.12.2"
  }
 },
 "nbformat": 4,
 "nbformat_minor": 2
}
